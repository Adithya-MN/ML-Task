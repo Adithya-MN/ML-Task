{
  "nbformat": 4,
  "nbformat_minor": 0,
  "metadata": {
    "colab": {
      "name": "CV-Problem",
      "version": "0.3.2",
      "provenance": []
    },
    "kernelspec": {
      "name": "python3",
      "display_name": "Python 3"
    }
  },
  "cells": [
    {
      "metadata": {
        "id": "h4Hg7kT1b9q4",
        "colab_type": "text"
      },
      "cell_type": "markdown",
      "source": [
        "#Imports"
      ]
    },
    {
      "metadata": {
        "id": "1Ckf0SoMb8Go",
        "colab_type": "code",
        "outputId": "e5eac081-3f9b-41c5-c061-ee0c902708f6",
        "colab": {
          "base_uri": "https://localhost:8080/",
          "height": 34
        }
      },
      "cell_type": "code",
      "source": [
        "#Standard data processing libraries\n",
        "import numpy as np\n",
        "import pandas as pd\n",
        "from sklearn.model_selection import train_test_split\n",
        "\n",
        "#To unpickle the dataset\n",
        "import pickle\n",
        "\n",
        "#For gabage collection\n",
        "import gc\n",
        "\n",
        "#To visualize images and graphs\n",
        "import cv2\n",
        "import matplotlib.pyplot as plt\n",
        "from google.colab.patches import cv2_imshow\n",
        "\n",
        "#Using keras Sequential API to build a model\n",
        "import keras\n",
        "import tensorflow as tf\n",
        "from keras import optimizers\n",
        "from tensorflow.keras.layers import Layer\n",
        "from keras.models import Model,Sequential\n",
        "from keras.layers import Input,Flatten,Dense\n",
        "from keras.layers import Conv2D,MaxPooling2D,BatchNormalization,Dropout\n",
        "from keras.preprocessing.image import ImageDataGenerator, load_img\n",
        "from keras.utils import np_utils\n",
        "from keras.callbacks import EarlyStopping, ReduceLROnPlateau,ModelCheckpoint\n",
        "from keras.applications.vgg19 import VGG19\n",
        "from keras.models import load_model"
      ],
      "execution_count": 7,
      "outputs": [
        {
          "output_type": "stream",
          "text": [
            "Using TensorFlow backend.\n"
          ],
          "name": "stderr"
        }
      ]
    },
    {
      "metadata": {
        "id": "anqts0Mlb87Q",
        "colab_type": "text"
      },
      "cell_type": "markdown",
      "source": [
        "#Colab File Handling"
      ]
    },
    {
      "metadata": {
        "id": "u0ROZnA3cGbJ",
        "colab_type": "text"
      },
      "cell_type": "markdown",
      "source": [
        "##Mounting Google Drive and processing files (with workflow)"
      ]
    },
    {
      "metadata": {
        "id": "LJEix5i4ReTa",
        "colab_type": "code",
        "outputId": "967c83cd-0ecd-4427-cbd9-898277924c68",
        "colab": {
          "base_uri": "https://localhost:8080/",
          "height": 34
        }
      },
      "cell_type": "code",
      "source": [
        "#Mounting google drive for file i/o\n",
        "from google.colab import drive\n",
        "while(True):\n",
        "    \n",
        "    # A try-catch loop fixes the issue of the mount timing out\n",
        "    try:\n",
        "        drive.mount('/content/gdrive')\n",
        "        break;\n",
        "    except:\n",
        "        continue"
      ],
      "execution_count": 13,
      "outputs": [
        {
          "output_type": "stream",
          "text": [
            "Drive already mounted at /content/gdrive; to attempt to forcibly remount, call drive.mount(\"/content/gdrive\", force_remount=True).\n"
          ],
          "name": "stdout"
        }
      ]
    },
    {
      "metadata": {
        "id": "oPyMA7_oce_6",
        "colab_type": "code",
        "outputId": "dc64fc01-33ed-4c58-bcf4-17a2de7e4e67",
        "colab": {
          "base_uri": "https://localhost:8080/",
          "height": 51
        }
      },
      "cell_type": "code",
      "source": [
        "#Switching to the task directory\n",
        "cd gdrive/My\\ Drive/IIIT-D\\ Task/"
      ],
      "execution_count": 14,
      "outputs": [
        {
          "output_type": "stream",
          "text": [
            "[Errno 2] No such file or directory: 'gdrive/My Drive/IIIT-D Task/'\n",
            "/content/gdrive/My Drive/IIIT-D Task\n"
          ],
          "name": "stdout"
        }
      ]
    },
    {
      "metadata": {
        "id": "ORO8e18McMbf",
        "colab_type": "code",
        "colab": {}
      },
      "cell_type": "code",
      "source": [
        "PATH = \"Vision_task_dataset_public/\""
      ],
      "execution_count": 0,
      "outputs": []
    },
    {
      "metadata": {
        "id": "RrouyfahcmT0",
        "colab_type": "code",
        "outputId": "43e08032-e033-45ed-facb-da83f9b9e9a3",
        "colab": {
          "base_uri": "https://localhost:8080/",
          "height": 51
        }
      },
      "cell_type": "code",
      "source": [
        "!ls Vision_task_dataset_public/"
      ],
      "execution_count": 16,
      "outputs": [
        {
          "output_type": "stream",
          "text": [
            "'hitkul(sample_submission).csv'   train_image.pkl\n",
            " test_image.pkl\t\t\t  train_label.pkl\n"
          ],
          "name": "stdout"
        }
      ]
    },
    {
      "metadata": {
        "id": "CoMppq_qcnEO",
        "colab_type": "code",
        "colab": {}
      },
      "cell_type": "code",
      "source": [
        "#Unpickling and loading the files\n",
        "with open(PATH + 'train_image.pkl', 'rb') as f:\n",
        "    train_data = pickle.load(f)\n",
        "    \n",
        "with open(PATH + 'test_image.pkl', 'rb') as f:\n",
        "    test_data = pickle.load(f)\n",
        "    \n",
        "with open(PATH + 'train_label.pkl', 'rb') as f:\n",
        "    train_label = pickle.load(f)\n",
        "    \n",
        "sample_submission = pd.read_csv(PATH + \"hitkul(sample_submission).csv\")"
      ],
      "execution_count": 0,
      "outputs": []
    },
    {
      "metadata": {
        "id": "4gyyIckmhymb",
        "colab_type": "code",
        "outputId": "486c3371-d6f5-4055-aaae-af2e5ccffbb2",
        "colab": {
          "base_uri": "https://localhost:8080/",
          "height": 102
        }
      },
      "cell_type": "code",
      "source": [
        "#Figuring out the type and size of data\n",
        "print(type(train_data))\n",
        "print(type(train_data[0]))\n",
        "print(type(train_label))\n",
        "print(train_data.__len__())\n",
        "print(train_data[0].__len__())"
      ],
      "execution_count": 18,
      "outputs": [
        {
          "output_type": "stream",
          "text": [
            "<class 'list'>\n",
            "<class 'list'>\n",
            "<class 'list'>\n",
            "8000\n",
            "784\n"
          ],
          "name": "stdout"
        }
      ]
    },
    {
      "metadata": {
        "id": "TqNVv4lDNp3e",
        "colab_type": "text"
      },
      "cell_type": "markdown",
      "source": [
        "The images have shape 784, suggestiing they are 28*28 images"
      ]
    },
    {
      "metadata": {
        "colab_type": "code",
        "id": "g8agk0AUikUN",
        "outputId": "cc3422ec-5626-43bc-86d8-342208d02894",
        "colab": {
          "base_uri": "https://localhost:8080/",
          "height": 51
        }
      },
      "cell_type": "code",
      "source": [
        "#Convert list to numpy array so that it can be passed to model\n",
        "train_data = np.array(train_data)\n",
        "test_data = np.array(test_data)\n",
        "train_label = np.array(train_label)\n",
        "#Reshaping to 28*28 with 1 channel for cnn operations\n",
        "train_data = train_data.reshape([-1,28,28,1])\n",
        "test_data = test_data.reshape([-1,28,28,1])\n",
        "#Conversion to float32 is memory efficent and hardly affects accuracy\n",
        "train_data = train_data.astype('float32')\n",
        "test_data = test_data.astype('float32')\n",
        "print(train_data.shape)\n",
        "print(test_data.shape)"
      ],
      "execution_count": 19,
      "outputs": [
        {
          "output_type": "stream",
          "text": [
            "(8000, 28, 28, 1)\n",
            "(2000, 28, 28, 1)\n"
          ],
          "name": "stdout"
        }
      ]
    },
    {
      "metadata": {
        "id": "eTWlFy7NtNt5",
        "colab_type": "code",
        "outputId": "17462436-3754-4d24-c2b3-3d5485aab416",
        "colab": {
          "base_uri": "https://localhost:8080/",
          "height": 34
        }
      },
      "cell_type": "code",
      "source": [
        "#Figuring out label value to encode to one hot\n",
        "np.unique(train_label)"
      ],
      "execution_count": 20,
      "outputs": [
        {
          "output_type": "execute_result",
          "data": {
            "text/plain": [
              "array([0, 2, 3, 6])"
            ]
          },
          "metadata": {
            "tags": []
          },
          "execution_count": 20
        }
      ]
    },
    {
      "metadata": {
        "id": "Bn4OIQw1twEH",
        "colab_type": "code",
        "colab": {}
      },
      "cell_type": "code",
      "source": [
        "#onverting to one hot encodable\n",
        "train_label[train_label == 2] = 1\n",
        "train_label[train_label == 3] = 2\n",
        "train_label[train_label == 6] = 3"
      ],
      "execution_count": 0,
      "outputs": []
    },
    {
      "metadata": {
        "id": "jjoagnxg8MiS",
        "colab_type": "code",
        "outputId": "0e4f5a18-d677-49db-f800-6a1b4d08fde3",
        "colab": {
          "base_uri": "https://localhost:8080/",
          "height": 34
        }
      },
      "cell_type": "code",
      "source": [
        "np.unique(train_label)"
      ],
      "execution_count": 22,
      "outputs": [
        {
          "output_type": "execute_result",
          "data": {
            "text/plain": [
              "array([0, 1, 2, 3])"
            ]
          },
          "metadata": {
            "tags": []
          },
          "execution_count": 22
        }
      ]
    },
    {
      "metadata": {
        "id": "ETKvmj2HsmHh",
        "colab_type": "code",
        "colab": {}
      },
      "cell_type": "code",
      "source": [
        "#encoding, finally!\n",
        "number_of_classes = 4\n",
        "\n",
        "train_label = np_utils.to_categorical(train_label, number_of_classes)"
      ],
      "execution_count": 0,
      "outputs": []
    },
    {
      "metadata": {
        "id": "ripAYs6085pi",
        "colab_type": "code",
        "outputId": "fa1dadd6-9f9c-40de-be38-bebf2450106f",
        "colab": {
          "base_uri": "https://localhost:8080/",
          "height": 34
        }
      },
      "cell_type": "code",
      "source": [
        "train_label.shape"
      ],
      "execution_count": 24,
      "outputs": [
        {
          "output_type": "execute_result",
          "data": {
            "text/plain": [
              "(8000, 4)"
            ]
          },
          "metadata": {
            "tags": []
          },
          "execution_count": 24
        }
      ]
    },
    {
      "metadata": {
        "id": "UN7XehQHpsPd",
        "colab_type": "code",
        "colab": {}
      },
      "cell_type": "code",
      "source": [
        "training_data,validation_data,training_label,validation_label = train_test_split(train_data,train_label, test_size=0.20, random_state=42)"
      ],
      "execution_count": 0,
      "outputs": []
    },
    {
      "metadata": {
        "id": "UG30NLjgbxA7",
        "colab_type": "code",
        "outputId": "a04eabb5-ae21-4170-cb67-90954f080156",
        "colab": {
          "base_uri": "https://localhost:8080/",
          "height": 102
        }
      },
      "cell_type": "code",
      "source": [
        "validation_label[0:5,:]"
      ],
      "execution_count": 26,
      "outputs": [
        {
          "output_type": "execute_result",
          "data": {
            "text/plain": [
              "array([[0., 1., 0., 0.],\n",
              "       [0., 1., 0., 0.],\n",
              "       [1., 0., 0., 0.],\n",
              "       [0., 1., 0., 0.],\n",
              "       [0., 0., 1., 0.]], dtype=float32)"
            ]
          },
          "metadata": {
            "tags": []
          },
          "execution_count": 26
        }
      ]
    },
    {
      "metadata": {
        "id": "gvtkbl7agh08",
        "colab_type": "code",
        "outputId": "84fc8dad-e824-49f6-a134-5d966a277d65",
        "colab": {
          "base_uri": "https://localhost:8080/",
          "height": 378
        }
      },
      "cell_type": "code",
      "source": [
        "f, ax = plt.subplots(4,4, figsize=(6, 6))\n",
        "for index in range(16):\n",
        "    ax[int(index/4),index%4].imshow(train_data[index,:,:,0])\n",
        "f.show()"
      ],
      "execution_count": 40,
      "outputs": [
        {
          "output_type": "display_data",
          "data": {
            "image/png": "[encoded data removed]",
            "text/plain": [
              "<Figure size 432x432 with 16 Axes>"
            ]
          },
          "metadata": {
            "tags": []
          }
        }
      ]
    },
    {
      "metadata": {
        "id": "9EX3exCucHEv",
        "colab_type": "code",
        "outputId": "a0b5d499-0ec5-4fb3-be13-6a80646ad80c",
        "colab": {
          "base_uri": "https://localhost:8080/",
          "height": 34
        }
      },
      "cell_type": "code",
      "source": [
        "train_data.shape"
      ],
      "execution_count": 28,
      "outputs": [
        {
          "output_type": "execute_result",
          "data": {
            "text/plain": [
              "(8000, 28, 28, 1)"
            ]
          },
          "metadata": {
            "tags": []
          },
          "execution_count": 28
        }
      ]
    },
    {
      "metadata": {
        "id": "fTLIrAjmPFSW",
        "colab_type": "text"
      },
      "cell_type": "markdown",
      "source": [
        "##Training setup"
      ]
    },
    {
      "metadata": {
        "id": "W8z0ZQ6TkxEB",
        "colab_type": "code",
        "colab": {}
      },
      "cell_type": "code",
      "source": [
        "#Fixing vales that'll be used commonly\n",
        "NUM_TRAIN = train_data.shape[0]\n",
        "TRAIN_SIZE = training_data.shape[0]\n",
        "VALIDATE_SIZE = validation_data.shape[0]\n",
        "IMAGE_SHAPE = train_data.shape[1:4]\n",
        "BATCH_SIZE = 12\n",
        "EPOCHS = 10"
      ],
      "execution_count": 0,
      "outputs": []
    },
    {
      "metadata": {
        "id": "aNLKhodSoVxA",
        "colab_type": "code",
        "colab": {}
      },
      "cell_type": "code",
      "source": [
        "#Setting up the generators, with data augmentation for training to help as dataset is small\n",
        "train_datagen = ImageDataGenerator(\n",
        "    #rotation_range=15,\n",
        "    rescale=1./255,\n",
        "    #shear_range=0.1,\n",
        "    #zoom_range=0.2,\n",
        "    horizontal_flip=True,\n",
        "    width_shift_range=0.1,\n",
        "    height_shift_range=0.1\n",
        ")\n",
        "\n",
        "train_generator = train_datagen.flow(training_data,training_label,batch_size = BATCH_SIZE)\n",
        "\n",
        "validation_datagen = ImageDataGenerator(rescale=1./255)\n",
        "validation_generator = validation_datagen.flow(validation_data, validation_label)"
      ],
      "execution_count": 0,
      "outputs": []
    },
    {
      "metadata": {
        "id": "K4P-eouoWIes",
        "colab_type": "text"
      },
      "cell_type": "markdown",
      "source": [
        "#Attempt 1 "
      ]
    },
    {
      "metadata": {
        "id": "ypNOF78kPPdJ",
        "colab_type": "text"
      },
      "cell_type": "markdown",
      "source": [
        "##An attempt using a shallow net first to classify (This is used for prediction finally)"
      ]
    },
    {
      "metadata": {
        "id": "C3rn4w3agwWf",
        "colab_type": "code",
        "colab": {}
      },
      "cell_type": "code",
      "source": [
        "Classifier = Sequential()\n",
        "Classifier.add(Conv2D(filters = 16, kernel_size = (3,3), input_shape = IMAGE_SHAPE, activation = 'relu'))\n",
        "Classifier.add(BatchNormalization(axis=-1))\n",
        "Classifier.add(Conv2D(filters = 32, kernel_size = (3,3), activation = 'relu'))\n",
        "Classifier.add(BatchNormalization(axis=-1))\n",
        "Classifier.add(MaxPooling2D((2,2), strides = 2))\n",
        "Classifier.add(Conv2D(filters = 32, kernel_size = (3,3), activation = 'relu'))\n",
        "Classifier.add(MaxPooling2D((2,2), strides = 2))\n",
        "Classifier.add(Flatten())\n",
        "Classifier.add(Dense(256, activation = 'relu'))\n",
        "Classifier.add(Dropout(0.2))\n",
        "Classifier.add(Dense(4, activation = 'softmax'))\n",
        "Classifier.summary()"
      ],
      "execution_count": 0,
      "outputs": []
    },
    {
      "metadata": {
        "id": "E2bQF--rmOav",
        "colab_type": "code",
        "colab": {}
      },
      "cell_type": "code",
      "source": [
        "Classifier.compile(loss='categorical_crossentropy',optimizer=optimizers.adam(lr=1e-4),metrics=['acc'])"
      ],
      "execution_count": 0,
      "outputs": []
    },
    {
      "metadata": {
        "id": "qpku2YnjhvuC",
        "colab_type": "code",
        "colab": {
          "base_uri": "https://localhost:8080/",
          "height": 190
        },
        "outputId": "cb64da8c-7ec8-4d7b-b403-eef5021650f7"
      },
      "cell_type": "code",
      "source": [
        "Classifier = load_model(\"shallow_model.h5\")"
      ],
      "execution_count": 31,
      "outputs": [
        {
          "output_type": "stream",
          "text": [
            "WARNING:tensorflow:From /usr/local/lib/python3.6/dist-packages/tensorflow/python/framework/op_def_library.py:263: colocate_with (from tensorflow.python.framework.ops) is deprecated and will be removed in a future version.\n",
            "Instructions for updating:\n",
            "Colocations handled automatically by placer.\n",
            "WARNING:tensorflow:From /usr/local/lib/python3.6/dist-packages/keras/backend/tensorflow_backend.py:3445: calling dropout (from tensorflow.python.ops.nn_ops) with keep_prob is deprecated and will be removed in a future version.\n",
            "Instructions for updating:\n",
            "Please use `rate` instead of `keep_prob`. Rate should be set to `rate = 1 - keep_prob`.\n",
            "WARNING:tensorflow:From /usr/local/lib/python3.6/dist-packages/tensorflow/python/ops/math_ops.py:3066: to_int32 (from tensorflow.python.ops.math_ops) is deprecated and will be removed in a future version.\n",
            "Instructions for updating:\n",
            "Use tf.cast instead.\n"
          ],
          "name": "stdout"
        }
      ]
    },
    {
      "metadata": {
        "id": "uibpZu_29G8T",
        "colab_type": "code",
        "colab": {}
      },
      "cell_type": "code",
      "source": [
        "#Callbacks to help training\n",
        "earlystop = EarlyStopping(patience=70)\n",
        "learning_rate_reduction = ReduceLROnPlateau(monitor='val_acc', \n",
        "                                            patience=2, \n",
        "                                            verbose=1, \n",
        "                                            factor=0.5, \n",
        "                                            min_lr=0.00001)\n",
        "mc = ModelCheckpoint(\n",
        "        \"shallow_model.h5\",\n",
        "        monitor='val_acc',\n",
        "        save_best_only=True,\n",
        "        mode='max',\n",
        "        verbose=1)\n",
        "callbacks = [earlystop, learning_rate_reduction,mc]"
      ],
      "execution_count": 0,
      "outputs": []
    },
    {
      "metadata": {
        "id": "3wSpyjVbJfEF",
        "colab_type": "code",
        "colab": {}
      },
      "cell_type": "code",
      "source": [
        "BATCH_SIZE = 256"
      ],
      "execution_count": 0,
      "outputs": []
    },
    {
      "metadata": {
        "scrolled": true,
        "id": "7j-g3fN1ZNnN",
        "colab_type": "code",
        "outputId": "2d147c08-aae5-4f85-84ee-115aa773b151",
        "colab": {
          "base_uri": "https://localhost:8080/",
          "height": 8449
        }
      },
      "cell_type": "code",
      "source": [
        "epochs=1000\n",
        "history = Classifier.fit_generator(\n",
        "    train_generator, \n",
        "    epochs=epochs,\n",
        "    validation_data=validation_generator,\n",
        "    validation_steps=VALIDATE_SIZE//BATCH_SIZE,\n",
        "    steps_per_epoch=TRAIN_SIZE//BATCH_SIZE,\n",
        "    callbacks=callbacks\n",
        ")\n",
        "Classifier.save(\"s_model.g5\")"
      ],
      "execution_count": 34,
      "outputs": [
        {
          "output_type": "stream",
          "text": [
            "Epoch 1/1000\n",
            "25/25 [==============================] - 2s 69ms/step - loss: 0.3097 - acc: 0.8800 - val_loss: 0.3294 - val_acc: 0.8542\n",
            "\n",
            "Epoch 00001: val_acc improved from -inf to 0.85417, saving model to shallow_model.h5\n",
            "Epoch 2/1000\n",
            "25/25 [==============================] - 1s 54ms/step - loss: 0.3453 - acc: 0.8967 - val_loss: 0.5303 - val_acc: 0.8021\n",
            "\n",
            "Epoch 00002: val_acc did not improve from 0.85417\n",
            "Epoch 3/1000\n",
            "25/25 [==============================] - 1s 54ms/step - loss: 0.3059 - acc: 0.8633 - val_loss: 0.3541 - val_acc: 0.8750\n",
            "\n",
            "Epoch 00003: val_acc improved from 0.85417 to 0.87500, saving model to shallow_model.h5\n",
            "Epoch 4/1000\n",
            "25/25 [==============================] - 1s 54ms/step - loss: 0.3087 - acc: 0.8867 - val_loss: 0.3802 - val_acc: 0.8490\n",
            "\n",
            "Epoch 00004: val_acc did not improve from 0.87500\n",
            "Epoch 5/1000\n",
            "25/25 [==============================] - 1s 53ms/step - loss: 0.3603 - acc: 0.8367 - val_loss: 0.3779 - val_acc: 0.8385\n",
            "\n",
            "Epoch 00005: val_acc did not improve from 0.87500\n",
            "Epoch 6/1000\n",
            "25/25 [==============================] - 1s 53ms/step - loss: 0.3900 - acc: 0.8600 - val_loss: 0.3669 - val_acc: 0.8490\n",
            "\n",
            "Epoch 00006: val_acc did not improve from 0.87500\n",
            "Epoch 7/1000\n",
            "25/25 [==============================] - 1s 53ms/step - loss: 0.3450 - acc: 0.8733 - val_loss: 0.3721 - val_acc: 0.8333\n",
            "\n",
            "Epoch 00007: val_acc did not improve from 0.87500\n",
            "Epoch 8/1000\n",
            "25/25 [==============================] - 1s 54ms/step - loss: 0.3935 - acc: 0.8367 - val_loss: 0.5025 - val_acc: 0.8177\n",
            "\n",
            "Epoch 00008: val_acc did not improve from 0.87500\n",
            "Epoch 9/1000\n",
            "25/25 [==============================] - 1s 53ms/step - loss: 0.3783 - acc: 0.8367 - val_loss: 0.4276 - val_acc: 0.8438\n",
            "\n",
            "Epoch 00009: val_acc did not improve from 0.87500\n",
            "Epoch 10/1000\n",
            "25/25 [==============================] - 1s 52ms/step - loss: 0.3963 - acc: 0.8467 - val_loss: 0.4384 - val_acc: 0.8333\n",
            "\n",
            "Epoch 00010: val_acc did not improve from 0.87500\n",
            "Epoch 11/1000\n",
            "25/25 [==============================] - 1s 53ms/step - loss: 0.3643 - acc: 0.8600 - val_loss: 0.3943 - val_acc: 0.8177\n",
            "\n",
            "Epoch 00011: val_acc did not improve from 0.87500\n",
            "Epoch 12/1000\n",
            "25/25 [==============================] - 1s 53ms/step - loss: 0.4026 - acc: 0.8467 - val_loss: 0.4494 - val_acc: 0.7865\n",
            "\n",
            "Epoch 00012: val_acc did not improve from 0.87500\n",
            "Epoch 13/1000\n",
            "25/25 [==============================] - 1s 52ms/step - loss: 0.3644 - acc: 0.8500 - val_loss: 0.3947 - val_acc: 0.8646\n",
            "\n",
            "Epoch 00013: val_acc did not improve from 0.87500\n",
            "Epoch 14/1000\n",
            "25/25 [==============================] - 1s 54ms/step - loss: 0.3405 - acc: 0.8633 - val_loss: 0.3781 - val_acc: 0.8594\n",
            "\n",
            "Epoch 00014: val_acc did not improve from 0.87500\n",
            "Epoch 15/1000\n",
            "25/25 [==============================] - 1s 53ms/step - loss: 0.3405 - acc: 0.8767 - val_loss: 0.3416 - val_acc: 0.8438\n",
            "\n",
            "Epoch 00015: val_acc did not improve from 0.87500\n",
            "Epoch 16/1000\n",
            "25/25 [==============================] - 1s 53ms/step - loss: 0.3116 - acc: 0.8767 - val_loss: 0.3937 - val_acc: 0.8490\n",
            "\n",
            "Epoch 00016: val_acc did not improve from 0.87500\n",
            "Epoch 17/1000\n",
            "25/25 [==============================] - 1s 53ms/step - loss: 0.3973 - acc: 0.8467 - val_loss: 0.3851 - val_acc: 0.8333\n",
            "\n",
            "Epoch 00017: val_acc did not improve from 0.87500\n",
            "Epoch 18/1000\n",
            "25/25 [==============================] - 1s 53ms/step - loss: 0.4334 - acc: 0.8300 - val_loss: 0.3041 - val_acc: 0.8698\n",
            "\n",
            "Epoch 00018: val_acc did not improve from 0.87500\n",
            "Epoch 19/1000\n",
            "25/25 [==============================] - 1s 53ms/step - loss: 0.4340 - acc: 0.7967 - val_loss: 0.3797 - val_acc: 0.8438\n",
            "\n",
            "Epoch 00019: val_acc did not improve from 0.87500\n",
            "Epoch 20/1000\n",
            "25/25 [==============================] - 1s 53ms/step - loss: 0.2952 - acc: 0.8800 - val_loss: 0.3388 - val_acc: 0.8490\n",
            "\n",
            "Epoch 00020: val_acc did not improve from 0.87500\n",
            "Epoch 21/1000\n",
            "25/25 [==============================] - 1s 54ms/step - loss: 0.3777 - acc: 0.8433 - val_loss: 0.3517 - val_acc: 0.8542\n",
            "\n",
            "Epoch 00021: val_acc did not improve from 0.87500\n",
            "Epoch 22/1000\n",
            "25/25 [==============================] - 1s 52ms/step - loss: 0.3993 - acc: 0.8098 - val_loss: 0.3843 - val_acc: 0.8438\n",
            "\n",
            "Epoch 00022: val_acc did not improve from 0.87500\n",
            "Epoch 23/1000\n",
            "25/25 [==============================] - 1s 53ms/step - loss: 0.4237 - acc: 0.8467 - val_loss: 0.4260 - val_acc: 0.8646\n",
            "\n",
            "Epoch 00023: val_acc did not improve from 0.87500\n",
            "Epoch 24/1000\n",
            "25/25 [==============================] - 1s 52ms/step - loss: 0.3135 - acc: 0.8667 - val_loss: 0.5545 - val_acc: 0.7656\n",
            "\n",
            "Epoch 00024: val_acc did not improve from 0.87500\n",
            "Epoch 25/1000\n",
            "25/25 [==============================] - 1s 53ms/step - loss: 0.3549 - acc: 0.8800 - val_loss: 0.4689 - val_acc: 0.7917\n",
            "\n",
            "Epoch 00025: val_acc did not improve from 0.87500\n",
            "Epoch 26/1000\n",
            "25/25 [==============================] - 1s 52ms/step - loss: 0.3269 - acc: 0.8900 - val_loss: 0.5129 - val_acc: 0.8021\n",
            "\n",
            "Epoch 00026: val_acc did not improve from 0.87500\n",
            "Epoch 27/1000\n",
            "25/25 [==============================] - 1s 53ms/step - loss: 0.3261 - acc: 0.8433 - val_loss: 0.4006 - val_acc: 0.8333\n",
            "\n",
            "Epoch 00027: val_acc did not improve from 0.87500\n",
            "Epoch 28/1000\n",
            "25/25 [==============================] - 1s 52ms/step - loss: 0.3858 - acc: 0.8533 - val_loss: 0.4178 - val_acc: 0.8385\n",
            "\n",
            "Epoch 00028: val_acc did not improve from 0.87500\n",
            "Epoch 29/1000\n",
            "25/25 [==============================] - 1s 53ms/step - loss: 0.3477 - acc: 0.8633 - val_loss: 0.3665 - val_acc: 0.8281\n",
            "\n",
            "Epoch 00029: val_acc did not improve from 0.87500\n",
            "Epoch 30/1000\n",
            "25/25 [==============================] - 1s 54ms/step - loss: 0.3364 - acc: 0.8633 - val_loss: 0.4029 - val_acc: 0.8438\n",
            "\n",
            "Epoch 00030: val_acc did not improve from 0.87500\n",
            "Epoch 31/1000\n",
            "25/25 [==============================] - 1s 53ms/step - loss: 0.3912 - acc: 0.8233 - val_loss: 0.3796 - val_acc: 0.8177\n",
            "\n",
            "Epoch 00031: val_acc did not improve from 0.87500\n",
            "Epoch 32/1000\n",
            "25/25 [==============================] - 1s 53ms/step - loss: 0.3699 - acc: 0.8567 - val_loss: 0.3831 - val_acc: 0.8281\n",
            "\n",
            "Epoch 00032: val_acc did not improve from 0.87500\n",
            "Epoch 33/1000\n",
            "25/25 [==============================] - 1s 54ms/step - loss: 0.4199 - acc: 0.8500 - val_loss: 0.3683 - val_acc: 0.8542\n",
            "\n",
            "Epoch 00033: val_acc did not improve from 0.87500\n",
            "Epoch 34/1000\n",
            "25/25 [==============================] - 1s 53ms/step - loss: 0.2905 - acc: 0.8767 - val_loss: 0.4459 - val_acc: 0.8542\n",
            "\n",
            "Epoch 00034: val_acc did not improve from 0.87500\n",
            "Epoch 35/1000\n",
            "25/25 [==============================] - 1s 55ms/step - loss: 0.3788 - acc: 0.8567 - val_loss: 0.3652 - val_acc: 0.8385\n",
            "\n",
            "Epoch 00035: val_acc did not improve from 0.87500\n",
            "Epoch 36/1000\n",
            "25/25 [==============================] - 1s 54ms/step - loss: 0.3498 - acc: 0.8700 - val_loss: 0.3809 - val_acc: 0.8333\n",
            "\n",
            "Epoch 00036: val_acc did not improve from 0.87500\n",
            "Epoch 37/1000\n",
            "25/25 [==============================] - 1s 53ms/step - loss: 0.3467 - acc: 0.8600 - val_loss: 0.4568 - val_acc: 0.8229\n",
            "\n",
            "Epoch 00037: val_acc did not improve from 0.87500\n",
            "Epoch 38/1000\n",
            "25/25 [==============================] - 1s 55ms/step - loss: 0.3797 - acc: 0.8567 - val_loss: 0.3639 - val_acc: 0.8385\n",
            "\n",
            "Epoch 00038: val_acc did not improve from 0.87500\n",
            "Epoch 39/1000\n",
            "25/25 [==============================] - 1s 55ms/step - loss: 0.3845 - acc: 0.8600 - val_loss: 0.4050 - val_acc: 0.8385\n",
            "\n",
            "Epoch 00039: val_acc did not improve from 0.87500\n",
            "Epoch 40/1000\n",
            "25/25 [==============================] - 1s 53ms/step - loss: 0.3147 - acc: 0.8733 - val_loss: 0.3305 - val_acc: 0.8750\n",
            "\n",
            "Epoch 00040: val_acc did not improve from 0.87500\n",
            "Epoch 41/1000\n",
            "25/25 [==============================] - 1s 54ms/step - loss: 0.3950 - acc: 0.8433 - val_loss: 0.4190 - val_acc: 0.8073\n",
            "\n",
            "Epoch 00041: val_acc did not improve from 0.87500\n",
            "Epoch 42/1000\n",
            "25/25 [==============================] - 1s 53ms/step - loss: 0.3098 - acc: 0.8767 - val_loss: 0.4549 - val_acc: 0.8125\n",
            "\n",
            "Epoch 00042: val_acc did not improve from 0.87500\n",
            "Epoch 43/1000\n",
            "25/25 [==============================] - 1s 53ms/step - loss: 0.3366 - acc: 0.8668 - val_loss: 0.4772 - val_acc: 0.7708\n",
            "\n",
            "Epoch 00043: val_acc did not improve from 0.87500\n",
            "Epoch 44/1000\n",
            "25/25 [==============================] - 1s 54ms/step - loss: 0.3796 - acc: 0.8533 - val_loss: 0.4715 - val_acc: 0.8021\n",
            "\n",
            "Epoch 00044: val_acc did not improve from 0.87500\n",
            "Epoch 45/1000\n",
            "25/25 [==============================] - 1s 54ms/step - loss: 0.3585 - acc: 0.8467 - val_loss: 0.3556 - val_acc: 0.8594\n",
            "\n",
            "Epoch 00045: val_acc did not improve from 0.87500\n",
            "Epoch 46/1000\n",
            "25/25 [==============================] - 1s 54ms/step - loss: 0.3562 - acc: 0.8567 - val_loss: 0.4514 - val_acc: 0.8177\n",
            "\n",
            "Epoch 00046: val_acc did not improve from 0.87500\n",
            "Epoch 47/1000\n",
            "25/25 [==============================] - 1s 55ms/step - loss: 0.4038 - acc: 0.8467 - val_loss: 0.3638 - val_acc: 0.8385\n",
            "\n",
            "Epoch 00047: val_acc did not improve from 0.87500\n",
            "Epoch 48/1000\n",
            "25/25 [==============================] - 1s 54ms/step - loss: 0.3658 - acc: 0.8567 - val_loss: 0.3364 - val_acc: 0.8594\n",
            "\n",
            "Epoch 00048: val_acc did not improve from 0.87500\n",
            "Epoch 49/1000\n",
            "25/25 [==============================] - 1s 56ms/step - loss: 0.3640 - acc: 0.8700 - val_loss: 0.3054 - val_acc: 0.8698\n",
            "\n",
            "Epoch 00049: val_acc did not improve from 0.87500\n",
            "Epoch 50/1000\n",
            "25/25 [==============================] - 1s 53ms/step - loss: 0.4192 - acc: 0.8433 - val_loss: 0.3552 - val_acc: 0.8698\n",
            "\n",
            "Epoch 00050: val_acc did not improve from 0.87500\n",
            "Epoch 51/1000\n",
            "25/25 [==============================] - 1s 55ms/step - loss: 0.2596 - acc: 0.8967 - val_loss: 0.4827 - val_acc: 0.8021\n",
            "\n",
            "Epoch 00051: val_acc did not improve from 0.87500\n",
            "Epoch 52/1000\n",
            "25/25 [==============================] - 1s 54ms/step - loss: 0.2975 - acc: 0.8800 - val_loss: 0.3744 - val_acc: 0.8646\n",
            "\n",
            "Epoch 00052: val_acc did not improve from 0.87500\n",
            "Epoch 53/1000\n",
            "25/25 [==============================] - 1s 53ms/step - loss: 0.3333 - acc: 0.8433 - val_loss: 0.4451 - val_acc: 0.8177\n",
            "\n",
            "Epoch 00053: val_acc did not improve from 0.87500\n",
            "Epoch 54/1000\n",
            "25/25 [==============================] - 1s 53ms/step - loss: 0.4731 - acc: 0.8333 - val_loss: 0.2669 - val_acc: 0.9010\n",
            "\n",
            "Epoch 00054: val_acc improved from 0.87500 to 0.90104, saving model to shallow_model.h5\n",
            "Epoch 55/1000\n",
            "25/25 [==============================] - 1s 54ms/step - loss: 0.3423 - acc: 0.8667 - val_loss: 0.4612 - val_acc: 0.8281\n",
            "\n",
            "Epoch 00055: val_acc did not improve from 0.90104\n",
            "Epoch 56/1000\n",
            "25/25 [==============================] - 1s 52ms/step - loss: 0.3287 - acc: 0.8700 - val_loss: 0.4108 - val_acc: 0.8021\n",
            "\n",
            "Epoch 00056: val_acc did not improve from 0.90104\n",
            "Epoch 57/1000\n",
            "25/25 [==============================] - 1s 53ms/step - loss: 0.3030 - acc: 0.8767 - val_loss: 0.3783 - val_acc: 0.8333\n",
            "\n",
            "Epoch 00057: val_acc did not improve from 0.90104\n",
            "Epoch 58/1000\n",
            "25/25 [==============================] - 1s 54ms/step - loss: 0.2678 - acc: 0.9000 - val_loss: 0.3749 - val_acc: 0.8333\n",
            "\n",
            "Epoch 00058: val_acc did not improve from 0.90104\n",
            "Epoch 59/1000\n",
            "25/25 [==============================] - 1s 54ms/step - loss: 0.3131 - acc: 0.8800 - val_loss: 0.4322 - val_acc: 0.8281\n",
            "\n",
            "Epoch 00059: val_acc did not improve from 0.90104\n",
            "Epoch 60/1000\n",
            "25/25 [==============================] - 1s 54ms/step - loss: 0.3806 - acc: 0.8600 - val_loss: 0.3587 - val_acc: 0.8385\n",
            "\n",
            "Epoch 00060: val_acc did not improve from 0.90104\n",
            "Epoch 61/1000\n",
            "25/25 [==============================] - 1s 55ms/step - loss: 0.4610 - acc: 0.8300 - val_loss: 0.4304 - val_acc: 0.8229\n",
            "\n",
            "Epoch 00061: val_acc did not improve from 0.90104\n",
            "Epoch 62/1000\n",
            "25/25 [==============================] - 1s 55ms/step - loss: 0.3789 - acc: 0.8500 - val_loss: 0.5227 - val_acc: 0.8073\n",
            "\n",
            "Epoch 00062: val_acc did not improve from 0.90104\n",
            "Epoch 63/1000\n",
            "25/25 [==============================] - 1s 56ms/step - loss: 0.3717 - acc: 0.8600 - val_loss: 0.3739 - val_acc: 0.8333\n",
            "\n",
            "Epoch 00063: val_acc did not improve from 0.90104\n",
            "Epoch 64/1000\n",
            "25/25 [==============================] - 1s 54ms/step - loss: 0.3658 - acc: 0.8633 - val_loss: 0.4200 - val_acc: 0.8177\n",
            "\n",
            "Epoch 00064: val_acc did not improve from 0.90104\n",
            "Epoch 65/1000\n",
            "25/25 [==============================] - 1s 52ms/step - loss: 0.3577 - acc: 0.8601 - val_loss: 0.3001 - val_acc: 0.8802\n",
            "\n",
            "Epoch 00065: val_acc did not improve from 0.90104\n",
            "Epoch 66/1000\n",
            "25/25 [==============================] - 1s 52ms/step - loss: 0.3328 - acc: 0.8700 - val_loss: 0.3440 - val_acc: 0.8333\n",
            "\n",
            "Epoch 00066: val_acc did not improve from 0.90104\n",
            "Epoch 67/1000\n",
            "25/25 [==============================] - 1s 52ms/step - loss: 0.4055 - acc: 0.8467 - val_loss: 0.3831 - val_acc: 0.8177\n",
            "\n",
            "Epoch 00067: val_acc did not improve from 0.90104\n",
            "Epoch 68/1000\n",
            "25/25 [==============================] - 1s 54ms/step - loss: 0.3606 - acc: 0.8533 - val_loss: 0.4225 - val_acc: 0.8229\n",
            "\n",
            "Epoch 00068: val_acc did not improve from 0.90104\n",
            "Epoch 69/1000\n",
            "25/25 [==============================] - 1s 52ms/step - loss: 0.3906 - acc: 0.8567 - val_loss: 0.4257 - val_acc: 0.8438\n",
            "\n",
            "Epoch 00069: val_acc did not improve from 0.90104\n",
            "Epoch 70/1000\n",
            "25/25 [==============================] - 1s 53ms/step - loss: 0.3978 - acc: 0.8167 - val_loss: 0.3464 - val_acc: 0.8646\n",
            "\n",
            "Epoch 00070: val_acc did not improve from 0.90104\n",
            "Epoch 71/1000\n",
            "25/25 [==============================] - 1s 53ms/step - loss: 0.3782 - acc: 0.8633 - val_loss: 0.4524 - val_acc: 0.8125\n",
            "\n",
            "Epoch 00071: val_acc did not improve from 0.90104\n",
            "Epoch 72/1000\n",
            "25/25 [==============================] - 1s 54ms/step - loss: 0.3846 - acc: 0.8600 - val_loss: 0.3033 - val_acc: 0.8698\n",
            "\n",
            "Epoch 00072: val_acc did not improve from 0.90104\n",
            "Epoch 73/1000\n",
            "25/25 [==============================] - 1s 55ms/step - loss: 0.3651 - acc: 0.8533 - val_loss: 0.4462 - val_acc: 0.7917\n",
            "\n",
            "Epoch 00073: val_acc did not improve from 0.90104\n",
            "Epoch 74/1000\n",
            "25/25 [==============================] - 1s 54ms/step - loss: 0.3798 - acc: 0.8467 - val_loss: 0.3372 - val_acc: 0.8542\n",
            "\n",
            "Epoch 00074: val_acc did not improve from 0.90104\n",
            "Epoch 75/1000\n",
            "25/25 [==============================] - 1s 55ms/step - loss: 0.3539 - acc: 0.8500 - val_loss: 0.4144 - val_acc: 0.8333\n",
            "\n",
            "Epoch 00075: val_acc did not improve from 0.90104\n",
            "Epoch 76/1000\n",
            "25/25 [==============================] - 1s 54ms/step - loss: 0.3492 - acc: 0.8500 - val_loss: 0.3228 - val_acc: 0.8594\n",
            "\n",
            "Epoch 00076: val_acc did not improve from 0.90104\n",
            "Epoch 77/1000\n",
            "25/25 [==============================] - 1s 53ms/step - loss: 0.4404 - acc: 0.8167 - val_loss: 0.4977 - val_acc: 0.7604\n",
            "\n",
            "Epoch 00077: val_acc did not improve from 0.90104\n",
            "Epoch 78/1000\n",
            "25/25 [==============================] - 1s 55ms/step - loss: 0.3087 - acc: 0.8767 - val_loss: 0.2732 - val_acc: 0.8854\n",
            "\n",
            "Epoch 00078: val_acc did not improve from 0.90104\n",
            "Epoch 79/1000\n",
            "25/25 [==============================] - 1s 57ms/step - loss: 0.3219 - acc: 0.8633 - val_loss: 0.3836 - val_acc: 0.8542\n",
            "\n",
            "Epoch 00079: val_acc did not improve from 0.90104\n",
            "Epoch 80/1000\n",
            "25/25 [==============================] - 1s 58ms/step - loss: 0.3473 - acc: 0.8533 - val_loss: 0.3419 - val_acc: 0.8542\n",
            "\n",
            "Epoch 00080: val_acc did not improve from 0.90104\n",
            "Epoch 81/1000\n",
            "25/25 [==============================] - 1s 57ms/step - loss: 0.3725 - acc: 0.8600 - val_loss: 0.3319 - val_acc: 0.8646\n",
            "\n",
            "Epoch 00081: val_acc did not improve from 0.90104\n",
            "Epoch 82/1000\n",
            "25/25 [==============================] - 1s 58ms/step - loss: 0.3914 - acc: 0.8467 - val_loss: 0.4165 - val_acc: 0.8229\n",
            "\n",
            "Epoch 00082: val_acc did not improve from 0.90104\n",
            "Epoch 83/1000\n",
            "25/25 [==============================] - 1s 58ms/step - loss: 0.3607 - acc: 0.8400 - val_loss: 0.4983 - val_acc: 0.8229\n",
            "\n",
            "Epoch 00083: val_acc did not improve from 0.90104\n",
            "Epoch 84/1000\n",
            "25/25 [==============================] - 1s 58ms/step - loss: 0.3245 - acc: 0.8867 - val_loss: 0.4525 - val_acc: 0.8229\n",
            "\n",
            "Epoch 00084: val_acc did not improve from 0.90104\n",
            "Epoch 85/1000\n",
            "25/25 [==============================] - 1s 58ms/step - loss: 0.3313 - acc: 0.8667 - val_loss: 0.3861 - val_acc: 0.8490\n",
            "\n",
            "Epoch 00085: val_acc did not improve from 0.90104\n",
            "Epoch 86/1000\n",
            "25/25 [==============================] - 1s 54ms/step - loss: 0.3360 - acc: 0.8635 - val_loss: 0.3489 - val_acc: 0.8438\n",
            "\n",
            "Epoch 00086: val_acc did not improve from 0.90104\n",
            "Epoch 87/1000\n",
            "25/25 [==============================] - 1s 52ms/step - loss: 0.4136 - acc: 0.8533 - val_loss: 0.4654 - val_acc: 0.8333\n",
            "\n",
            "Epoch 00087: val_acc did not improve from 0.90104\n",
            "Epoch 88/1000\n",
            "25/25 [==============================] - 1s 53ms/step - loss: 0.3472 - acc: 0.8567 - val_loss: 0.4060 - val_acc: 0.8594\n",
            "\n",
            "Epoch 00088: val_acc did not improve from 0.90104\n",
            "Epoch 89/1000\n",
            "25/25 [==============================] - 1s 53ms/step - loss: 0.3901 - acc: 0.8400 - val_loss: 0.4084 - val_acc: 0.8281\n",
            "\n",
            "Epoch 00089: val_acc did not improve from 0.90104\n",
            "Epoch 90/1000\n",
            "25/25 [==============================] - 1s 54ms/step - loss: 0.4123 - acc: 0.8467 - val_loss: 0.3748 - val_acc: 0.8438\n",
            "\n",
            "Epoch 00090: val_acc did not improve from 0.90104\n",
            "Epoch 91/1000\n",
            "25/25 [==============================] - 1s 52ms/step - loss: 0.4029 - acc: 0.8433 - val_loss: 0.3640 - val_acc: 0.8177\n",
            "\n",
            "Epoch 00091: val_acc did not improve from 0.90104\n",
            "Epoch 92/1000\n",
            "25/25 [==============================] - 1s 52ms/step - loss: 0.3735 - acc: 0.8467 - val_loss: 0.4139 - val_acc: 0.8542\n",
            "\n",
            "Epoch 00092: val_acc did not improve from 0.90104\n",
            "Epoch 93/1000\n",
            "25/25 [==============================] - 1s 54ms/step - loss: 0.3948 - acc: 0.8467 - val_loss: 0.3041 - val_acc: 0.8698\n",
            "\n",
            "Epoch 00093: val_acc did not improve from 0.90104\n",
            "Epoch 94/1000\n",
            "25/25 [==============================] - 1s 52ms/step - loss: 0.3557 - acc: 0.8500 - val_loss: 0.4866 - val_acc: 0.7917\n",
            "\n",
            "Epoch 00094: val_acc did not improve from 0.90104\n",
            "Epoch 95/1000\n",
            "25/25 [==============================] - 1s 53ms/step - loss: 0.3023 - acc: 0.8767 - val_loss: 0.4074 - val_acc: 0.8177\n",
            "\n",
            "Epoch 00095: val_acc did not improve from 0.90104\n",
            "Epoch 96/1000\n",
            "25/25 [==============================] - 1s 53ms/step - loss: 0.3496 - acc: 0.8633 - val_loss: 0.4210 - val_acc: 0.8281\n",
            "\n",
            "Epoch 00096: val_acc did not improve from 0.90104\n",
            "Epoch 97/1000\n",
            "25/25 [==============================] - 1s 54ms/step - loss: 0.3684 - acc: 0.8633 - val_loss: 0.3462 - val_acc: 0.8542\n",
            "\n",
            "Epoch 00097: val_acc did not improve from 0.90104\n",
            "Epoch 98/1000\n",
            "25/25 [==============================] - 1s 54ms/step - loss: 0.4155 - acc: 0.8200 - val_loss: 0.3136 - val_acc: 0.9010\n",
            "\n",
            "Epoch 00098: val_acc did not improve from 0.90104\n",
            "Epoch 99/1000\n",
            "25/25 [==============================] - 1s 52ms/step - loss: 0.3953 - acc: 0.8500 - val_loss: 0.4357 - val_acc: 0.8281\n",
            "\n",
            "Epoch 00099: val_acc did not improve from 0.90104\n",
            "Epoch 100/1000\n",
            "25/25 [==============================] - 1s 53ms/step - loss: 0.4179 - acc: 0.8400 - val_loss: 0.3461 - val_acc: 0.8490\n",
            "\n",
            "Epoch 00100: val_acc did not improve from 0.90104\n",
            "Epoch 101/1000\n",
            "25/25 [==============================] - 1s 53ms/step - loss: 0.3903 - acc: 0.8367 - val_loss: 0.3237 - val_acc: 0.8542\n",
            "\n",
            "Epoch 00101: val_acc did not improve from 0.90104\n",
            "Epoch 102/1000\n",
            "25/25 [==============================] - 1s 54ms/step - loss: 0.3051 - acc: 0.8867 - val_loss: 0.3380 - val_acc: 0.8698\n",
            "\n",
            "Epoch 00102: val_acc did not improve from 0.90104\n",
            "Epoch 103/1000\n",
            "25/25 [==============================] - 1s 52ms/step - loss: 0.3268 - acc: 0.8600 - val_loss: 0.3845 - val_acc: 0.8021\n",
            "\n",
            "Epoch 00103: val_acc did not improve from 0.90104\n",
            "Epoch 104/1000\n",
            "25/25 [==============================] - 1s 53ms/step - loss: 0.3815 - acc: 0.8767 - val_loss: 0.3816 - val_acc: 0.8802\n",
            "\n",
            "Epoch 00104: val_acc did not improve from 0.90104\n",
            "Epoch 105/1000\n",
            "25/25 [==============================] - 1s 53ms/step - loss: 0.3091 - acc: 0.8600 - val_loss: 0.5225 - val_acc: 0.8073\n",
            "\n",
            "Epoch 00105: val_acc did not improve from 0.90104\n",
            "Epoch 106/1000\n",
            "25/25 [==============================] - 1s 54ms/step - loss: 0.3241 - acc: 0.8700 - val_loss: 0.3561 - val_acc: 0.8333\n",
            "\n",
            "Epoch 00106: val_acc did not improve from 0.90104\n",
            "Epoch 107/1000\n",
            "25/25 [==============================] - 1s 52ms/step - loss: 0.3340 - acc: 0.8568 - val_loss: 0.2765 - val_acc: 0.8906\n",
            "\n",
            "Epoch 00107: val_acc did not improve from 0.90104\n",
            "Epoch 108/1000\n",
            "25/25 [==============================] - 1s 53ms/step - loss: 0.3290 - acc: 0.8467 - val_loss: 0.4399 - val_acc: 0.8021\n",
            "\n",
            "Epoch 00108: val_acc did not improve from 0.90104\n",
            "Epoch 109/1000\n",
            "25/25 [==============================] - 1s 53ms/step - loss: 0.3249 - acc: 0.8800 - val_loss: 0.5841 - val_acc: 0.8021\n",
            "\n",
            "Epoch 00109: val_acc did not improve from 0.90104\n",
            "Epoch 110/1000\n",
            "25/25 [==============================] - 1s 52ms/step - loss: 0.3764 - acc: 0.8300 - val_loss: 0.3591 - val_acc: 0.8698\n",
            "\n",
            "Epoch 00110: val_acc did not improve from 0.90104\n",
            "Epoch 111/1000\n",
            "25/25 [==============================] - 1s 53ms/step - loss: 0.3607 - acc: 0.8933 - val_loss: 0.4075 - val_acc: 0.8281\n",
            "\n",
            "Epoch 00111: val_acc did not improve from 0.90104\n",
            "Epoch 112/1000\n",
            "25/25 [==============================] - 1s 52ms/step - loss: 0.3947 - acc: 0.8367 - val_loss: 0.3985 - val_acc: 0.8542\n",
            "\n",
            "Epoch 00112: val_acc did not improve from 0.90104\n",
            "Epoch 113/1000\n",
            "25/25 [==============================] - 1s 52ms/step - loss: 0.4205 - acc: 0.8500 - val_loss: 0.3845 - val_acc: 0.8229\n",
            "\n",
            "Epoch 00113: val_acc did not improve from 0.90104\n",
            "Epoch 114/1000\n",
            "25/25 [==============================] - 1s 52ms/step - loss: 0.3845 - acc: 0.8533 - val_loss: 0.4109 - val_acc: 0.8229\n",
            "\n",
            "Epoch 00114: val_acc did not improve from 0.90104\n",
            "Epoch 115/1000\n",
            "25/25 [==============================] - 1s 52ms/step - loss: 0.4689 - acc: 0.8133 - val_loss: 0.3247 - val_acc: 0.8594\n",
            "\n",
            "Epoch 00115: val_acc did not improve from 0.90104\n",
            "Epoch 116/1000\n",
            "25/25 [==============================] - 1s 53ms/step - loss: 0.3239 - acc: 0.8567 - val_loss: 0.3662 - val_acc: 0.8542\n",
            "\n",
            "Epoch 00116: val_acc did not improve from 0.90104\n",
            "Epoch 117/1000\n",
            "25/25 [==============================] - 1s 52ms/step - loss: 0.3225 - acc: 0.8800 - val_loss: 0.4343 - val_acc: 0.8281\n",
            "\n",
            "Epoch 00117: val_acc did not improve from 0.90104\n",
            "Epoch 118/1000\n",
            "25/25 [==============================] - 1s 51ms/step - loss: 0.4338 - acc: 0.8300 - val_loss: 0.5049 - val_acc: 0.8073\n",
            "\n",
            "Epoch 00118: val_acc did not improve from 0.90104\n",
            "Epoch 119/1000\n",
            "25/25 [==============================] - 1s 52ms/step - loss: 0.3653 - acc: 0.8733 - val_loss: 0.3289 - val_acc: 0.8698\n",
            "\n",
            "Epoch 00119: val_acc did not improve from 0.90104\n",
            "Epoch 120/1000\n",
            "25/25 [==============================] - 1s 52ms/step - loss: 0.3349 - acc: 0.8733 - val_loss: 0.3211 - val_acc: 0.8542\n",
            "\n",
            "Epoch 00120: val_acc did not improve from 0.90104\n",
            "Epoch 121/1000\n",
            "25/25 [==============================] - 1s 53ms/step - loss: 0.2908 - acc: 0.8933 - val_loss: 0.3979 - val_acc: 0.8333\n",
            "\n",
            "Epoch 00121: val_acc did not improve from 0.90104\n",
            "Epoch 122/1000\n",
            "25/25 [==============================] - 1s 53ms/step - loss: 0.3578 - acc: 0.8367 - val_loss: 0.3291 - val_acc: 0.8333\n",
            "\n",
            "Epoch 00122: val_acc did not improve from 0.90104\n",
            "Epoch 123/1000\n",
            "25/25 [==============================] - 1s 53ms/step - loss: 0.2979 - acc: 0.8933 - val_loss: 0.4030 - val_acc: 0.8385\n",
            "\n",
            "Epoch 00123: val_acc did not improve from 0.90104\n",
            "Epoch 124/1000\n",
            "25/25 [==============================] - 1s 52ms/step - loss: 0.2978 - acc: 0.9033 - val_loss: 0.4241 - val_acc: 0.8281\n",
            "\n",
            "Epoch 00124: val_acc did not improve from 0.90104\n"
          ],
          "name": "stdout"
        }
      ]
    },
    {
      "metadata": {
        "id": "qT-EoxNzSrpo",
        "colab_type": "code",
        "colab": {}
      },
      "cell_type": "code",
      "source": [
        "Classifier = load_model(\"shallow_model.h5\")"
      ],
      "execution_count": 0,
      "outputs": []
    },
    {
      "metadata": {
        "id": "xu3sRiGMXRNx",
        "colab_type": "code",
        "colab": {}
      },
      "cell_type": "code",
      "source": [
        "prediction = Classifier.predict(test_data)\n",
        "prediction = np.argmax(prediction, axis = 1)\n",
        "prediction[prediction == 1] = 2\n",
        "prediction[prediction == 2] = 3\n",
        "prediction[prediction == 3] = 6"
      ],
      "execution_count": 0,
      "outputs": []
    },
    {
      "metadata": {
        "colab_type": "code",
        "outputId": "a3eca532-2444-4d01-efd0-df14058ec768",
        "id": "_etzQwlxjgX8",
        "colab": {
          "base_uri": "https://localhost:8080/",
          "height": 204
        }
      },
      "cell_type": "code",
      "source": [
        "df = pd.DataFrame({'image_index': list(np.arange(len(prediction))) ,'class': prediction})\n",
        "df = df[['image_index', 'class']]\n",
        "df.head()"
      ],
      "execution_count": 37,
      "outputs": [
        {
          "output_type": "execute_result",
          "data": {
            "text/html": [
              "<div>\n",
              "<style scoped>\n",
              "    .dataframe tbody tr th:only-of-type {\n",
              "        vertical-align: middle;\n",
              "    }\n",
              "\n",
              "    .dataframe tbody tr th {\n",
              "        vertical-align: top;\n",
              "    }\n",
              "\n",
              "    .dataframe thead th {\n",
              "        text-align: right;\n",
              "    }\n",
              "</style>\n",
              "<table border=\"1\" class=\"dataframe\">\n",
              "  <thead>\n",
              "    <tr style=\"text-align: right;\">\n",
              "      <th></th>\n",
              "      <th>image_index</th>\n",
              "      <th>class</th>\n",
              "    </tr>\n",
              "  </thead>\n",
              "  <tbody>\n",
              "    <tr>\n",
              "      <th>0</th>\n",
              "      <td>0</td>\n",
              "      <td>6</td>\n",
              "    </tr>\n",
              "    <tr>\n",
              "      <th>1</th>\n",
              "      <td>1</td>\n",
              "      <td>6</td>\n",
              "    </tr>\n",
              "    <tr>\n",
              "      <th>2</th>\n",
              "      <td>2</td>\n",
              "      <td>6</td>\n",
              "    </tr>\n",
              "    <tr>\n",
              "      <th>3</th>\n",
              "      <td>3</td>\n",
              "      <td>0</td>\n",
              "    </tr>\n",
              "    <tr>\n",
              "      <th>4</th>\n",
              "      <td>4</td>\n",
              "      <td>0</td>\n",
              "    </tr>\n",
              "  </tbody>\n",
              "</table>\n",
              "</div>"
            ],
            "text/plain": [
              "   image_index  class\n",
              "0            0      6\n",
              "1            1      6\n",
              "2            2      6\n",
              "3            3      0\n",
              "4            4      0"
            ]
          },
          "metadata": {
            "tags": []
          },
          "execution_count": 37
        }
      ]
    },
    {
      "metadata": {
        "id": "VCU5uTCCj2B3",
        "colab_type": "code",
        "colab": {}
      },
      "cell_type": "code",
      "source": [
        "df.to_csv('test_submission.csv', index=False)"
      ],
      "execution_count": 0,
      "outputs": []
    },
    {
      "metadata": {
        "id": "M9rKFmv1L5TJ",
        "colab_type": "code",
        "colab": {}
      },
      "cell_type": "code",
      "source": [
        "from google.colab import files\n",
        "files.download('test_submission.csv') "
      ],
      "execution_count": 0,
      "outputs": []
    },
    {
      "metadata": {
        "id": "j8e_WtNkXRuJ",
        "colab_type": "text"
      },
      "cell_type": "markdown",
      "source": [
        "#Attempt 2"
      ]
    },
    {
      "metadata": {
        "id": "Ss4zDa6Yd43k",
        "colab_type": "text"
      },
      "cell_type": "markdown",
      "source": [
        "###Model definition"
      ]
    },
    {
      "metadata": {
        "id": "HMl1BwLVbHuo",
        "colab_type": "code",
        "colab": {}
      },
      "cell_type": "code",
      "source": [
        "#Building the VGG model for 1D data\n",
        "def VGG1D():\n",
        "    input_tensor=Input(shape=(IMAGE_SHAPE))\n",
        "    x = Conv2D(64, (3, 3), activation='relu', padding='same')(input_tensor)\n",
        "    x = Conv2D(64, (3, 3), activation='relu', padding='same')(x)\n",
        "    x = MaxPooling2D((2, 2), strides=(2, 2))(x)\n",
        "\n",
        "    # Block 2\n",
        "    x = Conv2D(128, (3, 3), activation='relu', padding='same')(x)\n",
        "    x = Conv2D(128, (3, 3), activation='relu', padding='same')(x)\n",
        "    x = MaxPooling2D((2, 2), strides=(2, 2))(x)\n",
        "\n",
        "    # Block 3\n",
        "    x = Conv2D(256, (3, 3), activation='relu', padding='same')(x)\n",
        "    x = Conv2D(256, (3, 3), activation='relu', padding='same')(x)\n",
        "    x = Conv2D(256, (3, 3), activation='relu', padding='same')(x)\n",
        "    x = MaxPooling2D((2, 2), strides=(2, 2))(x)\n",
        "\n",
        "    # Block 4\n",
        "    x = Conv2D(512, (3, 3), activation='relu', padding='same')(x)\n",
        "    x = Conv2D(512, (3, 3), activation='relu', padding='same')(x)\n",
        "    x = Conv2D(512, (3, 3), activation='relu', padding='same')(x)\n",
        "    x = MaxPooling2D((2, 2), strides=(2, 2), name='block4_pool')(x)\n",
        "\n",
        "    # Classification block\n",
        "    x = Flatten(name='flatten')(x)\n",
        "    x = Dense(4096, activation='relu')(x)\n",
        "    x = Dense(4096, activation='relu')(x)\n",
        "    x = Dropout(0.5)(x)\n",
        "    x = Dense(4, activation='softmax', name='predictions')(x)\n",
        "    return Model(inputs=[input_tensor],outputs=[x])"
      ],
      "execution_count": 0,
      "outputs": []
    },
    {
      "metadata": {
        "id": "RkCiwGP0OoE0",
        "colab_type": "code",
        "colab": {}
      },
      "cell_type": "code",
      "source": [
        "Classifier = VGG1D()"
      ],
      "execution_count": 0,
      "outputs": []
    },
    {
      "metadata": {
        "id": "8QV6KWl4ajrg",
        "colab_type": "code",
        "outputId": "1c03a639-12c2-4531-fd7e-0d2dff301439",
        "colab": {
          "base_uri": "https://localhost:8080/",
          "height": 833
        }
      },
      "cell_type": "code",
      "source": [
        "Classifier.summary()"
      ],
      "execution_count": 0,
      "outputs": [
        {
          "output_type": "stream",
          "text": [
            "_________________________________________________________________\n",
            "Layer (type)                 Output Shape              Param #   \n",
            "=================================================================\n",
            "input_1 (InputLayer)         (None, 28, 28, 1)         0         \n",
            "_________________________________________________________________\n",
            "block1_conv1 (Conv2D)        (None, 28, 28, 64)        640       \n",
            "_________________________________________________________________\n",
            "block1_conv2 (Conv2D)        (None, 28, 28, 64)        36928     \n",
            "_________________________________________________________________\n",
            "block1_pool (MaxPooling2D)   (None, 14, 14, 64)        0         \n",
            "_________________________________________________________________\n",
            "block2_conv1 (Conv2D)        (None, 14, 14, 128)       73856     \n",
            "_________________________________________________________________\n",
            "block2_conv2 (Conv2D)        (None, 14, 14, 128)       147584    \n",
            "_________________________________________________________________\n",
            "block2_pool (MaxPooling2D)   (None, 7, 7, 128)         0         \n",
            "_________________________________________________________________\n",
            "block3_conv1 (Conv2D)        (None, 7, 7, 256)         295168    \n",
            "_________________________________________________________________\n",
            "block3_conv2 (Conv2D)        (None, 7, 7, 256)         590080    \n",
            "_________________________________________________________________\n",
            "block3_conv3 (Conv2D)        (None, 7, 7, 256)         590080    \n",
            "_________________________________________________________________\n",
            "block3_pool (MaxPooling2D)   (None, 3, 3, 256)         0         \n",
            "_________________________________________________________________\n",
            "block4_conv1 (Conv2D)        (None, 3, 3, 512)         1180160   \n",
            "_________________________________________________________________\n",
            "block4_conv2 (Conv2D)        (None, 3, 3, 512)         2359808   \n",
            "_________________________________________________________________\n",
            "block4_conv3 (Conv2D)        (None, 3, 3, 512)         2359808   \n",
            "_________________________________________________________________\n",
            "block4_pool (MaxPooling2D)   (None, 1, 1, 512)         0         \n",
            "_________________________________________________________________\n",
            "flatten (Flatten)            (None, 512)               0         \n",
            "_________________________________________________________________\n",
            "fc1 (Dense)                  (None, 4096)              2101248   \n",
            "_________________________________________________________________\n",
            "fc2 (Dense)                  (None, 4096)              16781312  \n",
            "_________________________________________________________________\n",
            "dropout_1 (Dropout)          (None, 4096)              0         \n",
            "_________________________________________________________________\n",
            "predictions (Dense)          (None, 4)                 16388     \n",
            "=================================================================\n",
            "Total params: 26,533,060\n",
            "Trainable params: 26,533,060\n",
            "Non-trainable params: 0\n",
            "_________________________________________________________________\n"
          ],
          "name": "stdout"
        }
      ]
    },
    {
      "metadata": {
        "id": "92C2d7myd7Ex",
        "colab_type": "code",
        "colab": {}
      },
      "cell_type": "code",
      "source": [
        "Classifier.compile(loss='categorical_crossentropy',optimizer=optimizers.sgd(),metrics=['acc'])"
      ],
      "execution_count": 0,
      "outputs": []
    },
    {
      "metadata": {
        "id": "FtluvEd2d9C6",
        "colab_type": "code",
        "outputId": "be138d90-5503-4f2c-8077-623076b18c95",
        "colab": {
          "base_uri": "https://localhost:8080/",
          "height": 86
        }
      },
      "cell_type": "code",
      "source": [
        "!ls"
      ],
      "execution_count": 0,
      "outputs": [
        {
          "output_type": "stream",
          "text": [
            "classifier_model.h5  s_model.g5\t\t   transfer_model.h5\n",
            "deep_model.h5\t     test_submission2.csv  Vision_task_dataset_public\n",
            "model.g5\t     test_submission.csv\n",
            "shallow_model.h5     t_model.g5\n"
          ],
          "name": "stdout"
        }
      ]
    },
    {
      "metadata": {
        "id": "pQ-GLe62d9l5",
        "colab_type": "text"
      },
      "cell_type": "markdown",
      "source": [
        "###Model Training"
      ]
    },
    {
      "metadata": {
        "id": "ZhKOjsNjeBK9",
        "colab_type": "code",
        "colab": {}
      },
      "cell_type": "code",
      "source": [
        "Classifier = load_model(\"deep_model.h5\")"
      ],
      "execution_count": 0,
      "outputs": []
    },
    {
      "metadata": {
        "id": "8KBOBlSWakwB",
        "colab_type": "code",
        "colab": {}
      },
      "cell_type": "code",
      "source": [
        "earlystop = EarlyStopping(patience=25)\n",
        "learning_rate_reduction = ReduceLROnPlateau(monitor='val_acc', \n",
        "                                            patience=2, \n",
        "                                            verbose=1, \n",
        "                                            factor=0.5, \n",
        "                                            min_lr=0.00001)\n",
        "mc = ModelCheckpoint(\n",
        "        \"deep_model.h5\",\n",
        "        monitor='val_acc',\n",
        "        save_best_only=True,\n",
        "        mode='max',\n",
        "        verbose=1)\n",
        "callbacks = [earlystop, learning_rate_reduction,mc]"
      ],
      "execution_count": 0,
      "outputs": []
    },
    {
      "metadata": {
        "id": "EN-zRTIL1NzD",
        "colab_type": "code",
        "colab": {}
      },
      "cell_type": "code",
      "source": [
        "BATCH_SIZE = 64"
      ],
      "execution_count": 0,
      "outputs": []
    },
    {
      "metadata": {
        "id": "ReLr79Yfak2f",
        "colab_type": "code",
        "outputId": "b6a8b9d8-9b76-44b2-e75c-872fcb8f0a9b",
        "colab": {
          "base_uri": "https://localhost:8080/",
          "height": 364
        }
      },
      "cell_type": "code",
      "source": [
        "epochs=5\n",
        "history = Classifier.fit_generator(\n",
        "    train_generator, \n",
        "    epochs=epochs,\n",
        "    validation_data=validation_generator,\n",
        "    validation_steps=VALIDATE_SIZE//BATCH_SIZE,\n",
        "    steps_per_epoch=TRAIN_SIZE//BATCH_SIZE,\n",
        "    callbacks=callbacks\n",
        ")\n",
        "#Classifier.save(\"d_model.g5\")"
      ],
      "execution_count": 0,
      "outputs": [
        {
          "output_type": "stream",
          "text": [
            "Epoch 1/5\n",
            "100/100 [==============================] - 91s 912ms/step - loss: 0.6089 - acc: 0.7417 - val_loss: 0.5650 - val_acc: 0.7475\n",
            "\n",
            "Epoch 00001: val_acc did not improve from 0.77750\n",
            "Epoch 2/5\n",
            "100/100 [==============================] - 91s 908ms/step - loss: 0.6405 - acc: 0.7283 - val_loss: 0.6091 - val_acc: 0.7550\n",
            "\n",
            "Epoch 00002: val_acc did not improve from 0.77750\n",
            "Epoch 3/5\n",
            "100/100 [==============================] - 92s 921ms/step - loss: 0.6131 - acc: 0.7350 - val_loss: 0.6537 - val_acc: 0.7188\n",
            "\n",
            "Epoch 00003: val_acc did not improve from 0.77750\n",
            "Epoch 4/5\n",
            "100/100 [==============================] - 91s 908ms/step - loss: 0.5877 - acc: 0.7675 - val_loss: 0.5015 - val_acc: 0.7812\n",
            "\n",
            "Epoch 00004: val_acc improved from 0.77750 to 0.78125, saving model to deep_model.h5\n",
            "Epoch 5/5\n",
            "100/100 [==============================] - 92s 923ms/step - loss: 0.6209 - acc: 0.7458 - val_loss: 0.5922 - val_acc: 0.7475\n",
            "\n",
            "Epoch 00005: val_acc did not improve from 0.78125\n"
          ],
          "name": "stdout"
        }
      ]
    },
    {
      "metadata": {
        "id": "QmQzdyMFqzdV",
        "colab_type": "code",
        "colab": {}
      },
      "cell_type": "code",
      "source": [
        "prediction = Classifier.predict(test_data)\n",
        "prediction = np.argmax(prediction, axis = 1)\n",
        "prediction[prediction == 1] = 2\n",
        "prediction[prediction == 2] = 3\n",
        "prediction[prediction == 3] = 6"
      ],
      "execution_count": 0,
      "outputs": []
    },
    {
      "metadata": {
        "id": "5yaLc0vstDPM",
        "colab_type": "code",
        "outputId": "b8d1aecc-80c8-4142-c3c7-e7d62e2cf8dd",
        "colab": {
          "base_uri": "https://localhost:8080/",
          "height": 34
        }
      },
      "cell_type": "code",
      "source": [
        "prediction.shape"
      ],
      "execution_count": 0,
      "outputs": [
        {
          "output_type": "execute_result",
          "data": {
            "text/plain": [
              "(2000,)"
            ]
          },
          "metadata": {
            "tags": []
          },
          "execution_count": 82
        }
      ]
    },
    {
      "metadata": {
        "id": "VLtVpviFrVkF",
        "colab_type": "code",
        "outputId": "3b1027cd-b75f-4fb8-f426-b757497fab88",
        "colab": {
          "base_uri": "https://localhost:8080/",
          "height": 206
        }
      },
      "cell_type": "code",
      "source": [
        "df = pd.DataFrame({'image_index': list(np.arange(len(prediction))) ,'class': prediction})\n",
        "df = df[['image_index', 'class']]\n",
        "df.head()"
      ],
      "execution_count": 0,
      "outputs": [
        {
          "output_type": "execute_result",
          "data": {
            "text/html": [
              "<div>\n",
              "<style scoped>\n",
              "    .dataframe tbody tr th:only-of-type {\n",
              "        vertical-align: middle;\n",
              "    }\n",
              "\n",
              "    .dataframe tbody tr th {\n",
              "        vertical-align: top;\n",
              "    }\n",
              "\n",
              "    .dataframe thead th {\n",
              "        text-align: right;\n",
              "    }\n",
              "</style>\n",
              "<table border=\"1\" class=\"dataframe\">\n",
              "  <thead>\n",
              "    <tr style=\"text-align: right;\">\n",
              "      <th></th>\n",
              "      <th>class</th>\n",
              "      <th>image_index</th>\n",
              "    </tr>\n",
              "  </thead>\n",
              "  <tbody>\n",
              "    <tr>\n",
              "      <th>0</th>\n",
              "      <td>0</td>\n",
              "      <td>0</td>\n",
              "    </tr>\n",
              "    <tr>\n",
              "      <th>1</th>\n",
              "      <td>0</td>\n",
              "      <td>1</td>\n",
              "    </tr>\n",
              "    <tr>\n",
              "      <th>2</th>\n",
              "      <td>0</td>\n",
              "      <td>2</td>\n",
              "    </tr>\n",
              "    <tr>\n",
              "      <th>3</th>\n",
              "      <td>0</td>\n",
              "      <td>3</td>\n",
              "    </tr>\n",
              "    <tr>\n",
              "      <th>4</th>\n",
              "      <td>0</td>\n",
              "      <td>4</td>\n",
              "    </tr>\n",
              "  </tbody>\n",
              "</table>\n",
              "</div>"
            ],
            "text/plain": [
              "   class  image_index\n",
              "0      0            0\n",
              "1      0            1\n",
              "2      0            2\n",
              "3      0            3\n",
              "4      0            4"
            ]
          },
          "metadata": {
            "tags": []
          },
          "execution_count": 83
        }
      ]
    },
    {
      "metadata": {
        "id": "TpJpLXlwrwak",
        "colab_type": "code",
        "outputId": "3a09f105-1084-4cc9-949b-9659787439be",
        "colab": {
          "base_uri": "https://localhost:8080/",
          "height": 175
        }
      },
      "cell_type": "code",
      "source": [
        "sample_submission"
      ],
      "execution_count": 0,
      "outputs": [
        {
          "output_type": "execute_result",
          "data": {
            "text/html": [
              "<div>\n",
              "<style scoped>\n",
              "    .dataframe tbody tr th:only-of-type {\n",
              "        vertical-align: middle;\n",
              "    }\n",
              "\n",
              "    .dataframe tbody tr th {\n",
              "        vertical-align: top;\n",
              "    }\n",
              "\n",
              "    .dataframe thead th {\n",
              "        text-align: right;\n",
              "    }\n",
              "</style>\n",
              "<table border=\"1\" class=\"dataframe\">\n",
              "  <thead>\n",
              "    <tr style=\"text-align: right;\">\n",
              "      <th></th>\n",
              "      <th>image_index</th>\n",
              "      <th>class</th>\n",
              "    </tr>\n",
              "  </thead>\n",
              "  <tbody>\n",
              "    <tr>\n",
              "      <th>0</th>\n",
              "      <td>0</td>\n",
              "      <td>2</td>\n",
              "    </tr>\n",
              "    <tr>\n",
              "      <th>1</th>\n",
              "      <td>1</td>\n",
              "      <td>3</td>\n",
              "    </tr>\n",
              "    <tr>\n",
              "      <th>2</th>\n",
              "      <td>2</td>\n",
              "      <td>0</td>\n",
              "    </tr>\n",
              "    <tr>\n",
              "      <th>3</th>\n",
              "      <td>3</td>\n",
              "      <td>6</td>\n",
              "    </tr>\n",
              "  </tbody>\n",
              "</table>\n",
              "</div>"
            ],
            "text/plain": [
              "   image_index  class\n",
              "0            0      2\n",
              "1            1      3\n",
              "2            2      0\n",
              "3            3      6"
            ]
          },
          "metadata": {
            "tags": []
          },
          "execution_count": 64
        }
      ]
    },
    {
      "metadata": {
        "id": "MJ2M7yzitwsN",
        "colab_type": "code",
        "colab": {}
      },
      "cell_type": "code",
      "source": [
        "df.to_csv('test_submission.csv', index=False)"
      ],
      "execution_count": 0,
      "outputs": []
    }
  ]
}