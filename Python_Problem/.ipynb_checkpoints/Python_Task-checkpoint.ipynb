{
 "cells": [
  {
   "cell_type": "markdown",
   "metadata": {},
   "source": [
    "## Imports"
   ]
  },
  {
   "cell_type": "code",
   "execution_count": 82,
   "metadata": {},
   "outputs": [],
   "source": [
    "import tweepy \n",
    "import json\n",
    "import jsonlines\n",
    "import pandas as pd"
   ]
  },
  {
   "cell_type": "markdown",
   "metadata": {},
   "source": [
    "## Twitter API info"
   ]
  },
  {
   "cell_type": "code",
   "execution_count": 57,
   "metadata": {},
   "outputs": [],
   "source": [
    "consumerKey = '*************************'\n",
    "consumerSecret = '**************************************************'\n",
    "accessKey = '**************************************************'\n",
    "accesSecret = 'vbek8ICCHd5kHazIOvQaGzWVAGngjUvbo2P80cguFgeX3'"
   ]
  },
  {
   "cell_type": "code",
   "execution_count": 210,
   "metadata": {},
   "outputs": [
    {
     "ename": "NameError",
     "evalue": "name 'accessSecret' is not defined",
     "output_type": "error",
     "traceback": [
      "\u001b[0;31m---------------------------------------------------------------------------\u001b[0m",
      "\u001b[0;31mNameError\u001b[0m                                 Traceback (most recent call last)",
      "\u001b[0;32m<ipython-input-210-80a91945e49d>\u001b[0m in \u001b[0;36m<module>\u001b[0;34m\u001b[0m\n\u001b[0;32m----> 1\u001b[0;31m \u001b[0mlen\u001b[0m\u001b[0;34m(\u001b[0m\u001b[0maccessSecret\u001b[0m\u001b[0;34m)\u001b[0m\u001b[0;34m\u001b[0m\u001b[0;34m\u001b[0m\u001b[0m\n\u001b[0m",
      "\u001b[0;31mNameError\u001b[0m: name 'accessSecret' is not defined"
     ]
    }
   ],
   "source": [
    "len(accessSecret)"
   ]
  },
  {
   "cell_type": "code",
   "execution_count": 209,
   "metadata": {},
   "outputs": [
    {
     "name": "stdout",
     "output_type": "stream",
     "text": [
      "**************************************************\n"
     ]
    }
   ],
   "source": [
    "print('*'*50)"
   ]
  },
  {
   "cell_type": "markdown",
   "metadata": {},
   "source": [
    "## Code to fetch tweets"
   ]
  },
  {
   "cell_type": "code",
   "execution_count": 100,
   "metadata": {},
   "outputs": [],
   "source": [
    "def fetch_tweets(name):\n",
    "    \n",
    "    authorise = tweepy.OAuthHandler(consumer_key=consumerKey,consumer_secret=consumerSecret)\n",
    "    authorise.set_access_token(accessKey,accesSecret)\n",
    "    api = tweepy.API(authorise)\n",
    "    \n",
    "    \n",
    "    tweet_data = []\n",
    "\n",
    "    data = api.user_timeline(name, count = 50)\n",
    "    \n",
    "    id_last_tweet = data[-1].id - 1\n",
    "        \n",
    "    tweet_data.extend(data)\n",
    "    \n",
    "    while(True):\n",
    "        \n",
    "        data = api.user_timeline(name,\n",
    "count=50, max_id=id_last_tweet)\n",
    "        \n",
    "        tweet_data.extend(data)\n",
    "        \n",
    "        if (len(data) == 0):\n",
    "            break\n",
    "\n",
    "        id_last_tweet = data[-1].id - 1\n",
    "    \n",
    "    return tweet_data"
   ]
  },
  {
   "cell_type": "code",
   "execution_count": null,
   "metadata": {
    "scrolled": false
   },
   "outputs": [],
   "source": [
    "data = fetch_tweets(\"midasIIITD\")"
   ]
  },
  {
   "cell_type": "markdown",
   "metadata": {},
   "source": [
    "## Analysing fetched data"
   ]
  },
  {
   "cell_type": "code",
   "execution_count": 102,
   "metadata": {
    "scrolled": false
   },
   "outputs": [
    {
     "data": {
      "text/plain": [
       "334"
      ]
     },
     "execution_count": 102,
     "metadata": {},
     "output_type": "execute_result"
    }
   ],
   "source": [
    "data.__len__()"
   ]
  },
  {
   "cell_type": "code",
   "execution_count": 103,
   "metadata": {
    "collapsed": true
   },
   "outputs": [
    {
     "data": {
      "text/plain": [
       "Status(_api=<tweepy.api.API object at 0x7f15976f8a58>, _json={'created_at': 'Sun Apr 07 11:43:24 +0000 2019', 'id': 1114856195335106560, 'id_str': '1114856195335106560', 'text': 'We request all students whose interview are scheduled today to join at the time given to them and not before or aft… https://t.co/7cnrlj1b9Q', 'truncated': True, 'entities': {'hashtags': [], 'symbols': [], 'user_mentions': [], 'urls': [{'url': 'https://t.co/7cnrlj1b9Q', 'expanded_url': 'https://twitter.com/i/web/status/1114856195335106560', 'display_url': 'twitter.com/i/web/status/1…', 'indices': [117, 140]}]}, 'source': '<a href=\"http://twitter.com\" rel=\"nofollow\">Twitter Web Client</a>', 'in_reply_to_status_id': None, 'in_reply_to_status_id_str': None, 'in_reply_to_user_id': None, 'in_reply_to_user_id_str': None, 'in_reply_to_screen_name': None, 'user': {'id': 1021355762575073281, 'id_str': '1021355762575073281', 'name': 'MIDAS IIITD', 'screen_name': 'midasIIITD', 'location': 'New Delhi, India', 'description': 'MIDAS is a group of researchers at IIIT-Delhi who study, analyze, and build different multimedia systems for society leveraging multimodal information.', 'url': 'https://t.co/Uwg7oSM6mE', 'entities': {'url': {'urls': [{'url': 'https://t.co/Uwg7oSM6mE', 'expanded_url': 'http://midas.iiitd.edu.in/', 'display_url': 'midas.iiitd.edu.in', 'indices': [0, 23]}]}, 'description': {'urls': []}}, 'protected': False, 'followers_count': 264, 'friends_count': 42, 'listed_count': 0, 'created_at': 'Mon Jul 23 11:26:04 +0000 2018', 'favourites_count': 142, 'utc_offset': None, 'time_zone': None, 'geo_enabled': False, 'verified': False, 'statuses_count': 334, 'lang': 'en', 'contributors_enabled': False, 'is_translator': False, 'is_translation_enabled': False, 'profile_background_color': 'F5F8FA', 'profile_background_image_url': None, 'profile_background_image_url_https': None, 'profile_background_tile': False, 'profile_image_url': 'http://pbs.twimg.com/profile_images/1021356444921212928/WmSTJCUs_normal.jpg', 'profile_image_url_https': 'https://pbs.twimg.com/profile_images/1021356444921212928/WmSTJCUs_normal.jpg', 'profile_banner_url': 'https://pbs.twimg.com/profile_banners/1021355762575073281/1554320878', 'profile_link_color': '1DA1F2', 'profile_sidebar_border_color': 'C0DEED', 'profile_sidebar_fill_color': 'DDEEF6', 'profile_text_color': '333333', 'profile_use_background_image': True, 'has_extended_profile': False, 'default_profile': True, 'default_profile_image': False, 'following': False, 'follow_request_sent': False, 'notifications': False, 'translator_type': 'none'}, 'geo': None, 'coordinates': None, 'place': None, 'contributors': None, 'is_quote_status': False, 'retweet_count': 1, 'favorite_count': 0, 'favorited': False, 'retweeted': False, 'lang': 'en'}, created_at=datetime.datetime(2019, 4, 7, 11, 43, 24), id=1114856195335106560, id_str='1114856195335106560', text='We request all students whose interview are scheduled today to join at the time given to them and not before or aft… https://t.co/7cnrlj1b9Q', truncated=True, entities={'hashtags': [], 'symbols': [], 'user_mentions': [], 'urls': [{'url': 'https://t.co/7cnrlj1b9Q', 'expanded_url': 'https://twitter.com/i/web/status/1114856195335106560', 'display_url': 'twitter.com/i/web/status/1…', 'indices': [117, 140]}]}, source='Twitter Web Client', source_url='http://twitter.com', in_reply_to_status_id=None, in_reply_to_status_id_str=None, in_reply_to_user_id=None, in_reply_to_user_id_str=None, in_reply_to_screen_name=None, author=User(_api=<tweepy.api.API object at 0x7f15976f8a58>, _json={'id': 1021355762575073281, 'id_str': '1021355762575073281', 'name': 'MIDAS IIITD', 'screen_name': 'midasIIITD', 'location': 'New Delhi, India', 'description': 'MIDAS is a group of researchers at IIIT-Delhi who study, analyze, and build different multimedia systems for society leveraging multimodal information.', 'url': 'https://t.co/Uwg7oSM6mE', 'entities': {'url': {'urls': [{'url': 'https://t.co/Uwg7oSM6mE', 'expanded_url': 'http://midas.iiitd.edu.in/', 'display_url': 'midas.iiitd.edu.in', 'indices': [0, 23]}]}, 'description': {'urls': []}}, 'protected': False, 'followers_count': 264, 'friends_count': 42, 'listed_count': 0, 'created_at': 'Mon Jul 23 11:26:04 +0000 2018', 'favourites_count': 142, 'utc_offset': None, 'time_zone': None, 'geo_enabled': False, 'verified': False, 'statuses_count': 334, 'lang': 'en', 'contributors_enabled': False, 'is_translator': False, 'is_translation_enabled': False, 'profile_background_color': 'F5F8FA', 'profile_background_image_url': None, 'profile_background_image_url_https': None, 'profile_background_tile': False, 'profile_image_url': 'http://pbs.twimg.com/profile_images/1021356444921212928/WmSTJCUs_normal.jpg', 'profile_image_url_https': 'https://pbs.twimg.com/profile_images/1021356444921212928/WmSTJCUs_normal.jpg', 'profile_banner_url': 'https://pbs.twimg.com/profile_banners/1021355762575073281/1554320878', 'profile_link_color': '1DA1F2', 'profile_sidebar_border_color': 'C0DEED', 'profile_sidebar_fill_color': 'DDEEF6', 'profile_text_color': '333333', 'profile_use_background_image': True, 'has_extended_profile': False, 'default_profile': True, 'default_profile_image': False, 'following': False, 'follow_request_sent': False, 'notifications': False, 'translator_type': 'none'}, id=1021355762575073281, id_str='1021355762575073281', name='MIDAS IIITD', screen_name='midasIIITD', location='New Delhi, India', description='MIDAS is a group of researchers at IIIT-Delhi who study, analyze, and build different multimedia systems for society leveraging multimodal information.', url='https://t.co/Uwg7oSM6mE', entities={'url': {'urls': [{'url': 'https://t.co/Uwg7oSM6mE', 'expanded_url': 'http://midas.iiitd.edu.in/', 'display_url': 'midas.iiitd.edu.in', 'indices': [0, 23]}]}, 'description': {'urls': []}}, protected=False, followers_count=264, friends_count=42, listed_count=0, created_at=datetime.datetime(2018, 7, 23, 11, 26, 4), favourites_count=142, utc_offset=None, time_zone=None, geo_enabled=False, verified=False, statuses_count=334, lang='en', contributors_enabled=False, is_translator=False, is_translation_enabled=False, profile_background_color='F5F8FA', profile_background_image_url=None, profile_background_image_url_https=None, profile_background_tile=False, profile_image_url='http://pbs.twimg.com/profile_images/1021356444921212928/WmSTJCUs_normal.jpg', profile_image_url_https='https://pbs.twimg.com/profile_images/1021356444921212928/WmSTJCUs_normal.jpg', profile_banner_url='https://pbs.twimg.com/profile_banners/1021355762575073281/1554320878', profile_link_color='1DA1F2', profile_sidebar_border_color='C0DEED', profile_sidebar_fill_color='DDEEF6', profile_text_color='333333', profile_use_background_image=True, has_extended_profile=False, default_profile=True, default_profile_image=False, following=False, follow_request_sent=False, notifications=False, translator_type='none'), user=User(_api=<tweepy.api.API object at 0x7f15976f8a58>, _json={'id': 1021355762575073281, 'id_str': '1021355762575073281', 'name': 'MIDAS IIITD', 'screen_name': 'midasIIITD', 'location': 'New Delhi, India', 'description': 'MIDAS is a group of researchers at IIIT-Delhi who study, analyze, and build different multimedia systems for society leveraging multimodal information.', 'url': 'https://t.co/Uwg7oSM6mE', 'entities': {'url': {'urls': [{'url': 'https://t.co/Uwg7oSM6mE', 'expanded_url': 'http://midas.iiitd.edu.in/', 'display_url': 'midas.iiitd.edu.in', 'indices': [0, 23]}]}, 'description': {'urls': []}}, 'protected': False, 'followers_count': 264, 'friends_count': 42, 'listed_count': 0, 'created_at': 'Mon Jul 23 11:26:04 +0000 2018', 'favourites_count': 142, 'utc_offset': None, 'time_zone': None, 'geo_enabled': False, 'verified': False, 'statuses_count': 334, 'lang': 'en', 'contributors_enabled': False, 'is_translator': False, 'is_translation_enabled': False, 'profile_background_color': 'F5F8FA', 'profile_background_image_url': None, 'profile_background_image_url_https': None, 'profile_background_tile': False, 'profile_image_url': 'http://pbs.twimg.com/profile_images/1021356444921212928/WmSTJCUs_normal.jpg', 'profile_image_url_https': 'https://pbs.twimg.com/profile_images/1021356444921212928/WmSTJCUs_normal.jpg', 'profile_banner_url': 'https://pbs.twimg.com/profile_banners/1021355762575073281/1554320878', 'profile_link_color': '1DA1F2', 'profile_sidebar_border_color': 'C0DEED', 'profile_sidebar_fill_color': 'DDEEF6', 'profile_text_color': '333333', 'profile_use_background_image': True, 'has_extended_profile': False, 'default_profile': True, 'default_profile_image': False, 'following': False, 'follow_request_sent': False, 'notifications': False, 'translator_type': 'none'}, id=1021355762575073281, id_str='1021355762575073281', name='MIDAS IIITD', screen_name='midasIIITD', location='New Delhi, India', description='MIDAS is a group of researchers at IIIT-Delhi who study, analyze, and build different multimedia systems for society leveraging multimodal information.', url='https://t.co/Uwg7oSM6mE', entities={'url': {'urls': [{'url': 'https://t.co/Uwg7oSM6mE', 'expanded_url': 'http://midas.iiitd.edu.in/', 'display_url': 'midas.iiitd.edu.in', 'indices': [0, 23]}]}, 'description': {'urls': []}}, protected=False, followers_count=264, friends_count=42, listed_count=0, created_at=datetime.datetime(2018, 7, 23, 11, 26, 4), favourites_count=142, utc_offset=None, time_zone=None, geo_enabled=False, verified=False, statuses_count=334, lang='en', contributors_enabled=False, is_translator=False, is_translation_enabled=False, profile_background_color='F5F8FA', profile_background_image_url=None, profile_background_image_url_https=None, profile_background_tile=False, profile_image_url='http://pbs.twimg.com/profile_images/1021356444921212928/WmSTJCUs_normal.jpg', profile_image_url_https='https://pbs.twimg.com/profile_images/1021356444921212928/WmSTJCUs_normal.jpg', profile_banner_url='https://pbs.twimg.com/profile_banners/1021355762575073281/1554320878', profile_link_color='1DA1F2', profile_sidebar_border_color='C0DEED', profile_sidebar_fill_color='DDEEF6', profile_text_color='333333', profile_use_background_image=True, has_extended_profile=False, default_profile=True, default_profile_image=False, following=False, follow_request_sent=False, notifications=False, translator_type='none'), geo=None, coordinates=None, place=None, contributors=None, is_quote_status=False, retweet_count=1, favorite_count=0, favorited=False, retweeted=False, lang='en')"
      ]
     },
     "execution_count": 103,
     "metadata": {},
     "output_type": "execute_result"
    }
   ],
   "source": [
    "data[0]"
   ]
  },
  {
   "cell_type": "code",
   "execution_count": 24,
   "metadata": {
    "collapsed": true
   },
   "outputs": [
    {
     "data": {
      "text/plain": [
       "{'created_at': 'Wed Apr 03 18:31:53 +0000 2019',\n",
       " 'id': 1113509442849525760,\n",
       " 'id_str': '1113509442849525760',\n",
       " 'text': 'RT @stanfordnlp: What’s new in @Stanford CS224N Natural Language Processing with Deep Learning for 2019? Question answering—1D CNNs—subword…',\n",
       " 'truncated': False,\n",
       " 'entities': {'hashtags': [],\n",
       "  'symbols': [],\n",
       "  'user_mentions': [{'screen_name': 'stanfordnlp',\n",
       "    'name': 'Stanford NLP Group',\n",
       "    'id': 118263124,\n",
       "    'id_str': '118263124',\n",
       "    'indices': [3, 15]},\n",
       "   {'screen_name': 'Stanford',\n",
       "    'name': 'Stanford University',\n",
       "    'id': 18036441,\n",
       "    'id_str': '18036441',\n",
       "    'indices': [31, 40]}],\n",
       "  'urls': []},\n",
       " 'source': '<a href=\"http://twitter.com\" rel=\"nofollow\">Twitter Web Client</a>',\n",
       " 'in_reply_to_status_id': None,\n",
       " 'in_reply_to_status_id_str': None,\n",
       " 'in_reply_to_user_id': None,\n",
       " 'in_reply_to_user_id_str': None,\n",
       " 'in_reply_to_screen_name': None,\n",
       " 'user': {'id': 1021355762575073281,\n",
       "  'id_str': '1021355762575073281',\n",
       "  'name': 'MIDAS IIITD',\n",
       "  'screen_name': 'midasIIITD',\n",
       "  'location': 'New Delhi, India',\n",
       "  'description': 'MIDAS is a group of researchers at IIIT-Delhi who study, analyze, and build different multimedia systems for society leveraging multimodal information.',\n",
       "  'url': 'https://t.co/Uwg7oSM6mE',\n",
       "  'entities': {'url': {'urls': [{'url': 'https://t.co/Uwg7oSM6mE',\n",
       "      'expanded_url': 'http://midas.iiitd.edu.in/',\n",
       "      'display_url': 'midas.iiitd.edu.in',\n",
       "      'indices': [0, 23]}]},\n",
       "   'description': {'urls': []}},\n",
       "  'protected': False,\n",
       "  'followers_count': 264,\n",
       "  'friends_count': 42,\n",
       "  'listed_count': 0,\n",
       "  'created_at': 'Mon Jul 23 11:26:04 +0000 2018',\n",
       "  'favourites_count': 142,\n",
       "  'utc_offset': None,\n",
       "  'time_zone': None,\n",
       "  'geo_enabled': False,\n",
       "  'verified': False,\n",
       "  'statuses_count': 333,\n",
       "  'lang': 'en',\n",
       "  'contributors_enabled': False,\n",
       "  'is_translator': False,\n",
       "  'is_translation_enabled': False,\n",
       "  'profile_background_color': 'F5F8FA',\n",
       "  'profile_background_image_url': None,\n",
       "  'profile_background_image_url_https': None,\n",
       "  'profile_background_tile': False,\n",
       "  'profile_image_url': 'http://pbs.twimg.com/profile_images/1021356444921212928/WmSTJCUs_normal.jpg',\n",
       "  'profile_image_url_https': 'https://pbs.twimg.com/profile_images/1021356444921212928/WmSTJCUs_normal.jpg',\n",
       "  'profile_banner_url': 'https://pbs.twimg.com/profile_banners/1021355762575073281/1554320878',\n",
       "  'profile_link_color': '1DA1F2',\n",
       "  'profile_sidebar_border_color': 'C0DEED',\n",
       "  'profile_sidebar_fill_color': 'DDEEF6',\n",
       "  'profile_text_color': '333333',\n",
       "  'profile_use_background_image': True,\n",
       "  'has_extended_profile': False,\n",
       "  'default_profile': True,\n",
       "  'default_profile_image': False,\n",
       "  'following': False,\n",
       "  'follow_request_sent': False,\n",
       "  'notifications': False,\n",
       "  'translator_type': 'none'},\n",
       " 'geo': None,\n",
       " 'coordinates': None,\n",
       " 'place': None,\n",
       " 'contributors': None,\n",
       " 'retweeted_status': {'created_at': 'Wed Apr 03 17:07:30 +0000 2019',\n",
       "  'id': 1113488206417104897,\n",
       "  'id_str': '1113488206417104897',\n",
       "  'text': 'What’s new in @Stanford CS224N Natural Language Processing with Deep Learning for 2019? Question answering—1D CNNs—… https://t.co/Zv9wvfNLkM',\n",
       "  'truncated': True,\n",
       "  'entities': {'hashtags': [],\n",
       "   'symbols': [],\n",
       "   'user_mentions': [{'screen_name': 'Stanford',\n",
       "     'name': 'Stanford University',\n",
       "     'id': 18036441,\n",
       "     'id_str': '18036441',\n",
       "     'indices': [14, 23]}],\n",
       "   'urls': [{'url': 'https://t.co/Zv9wvfNLkM',\n",
       "     'expanded_url': 'https://twitter.com/i/web/status/1113488206417104897',\n",
       "     'display_url': 'twitter.com/i/web/status/1…',\n",
       "     'indices': [117, 140]}]},\n",
       "  'source': '<a href=\"http://twitter.com/#!/download/ipad\" rel=\"nofollow\">Twitter for iPad</a>',\n",
       "  'in_reply_to_status_id': None,\n",
       "  'in_reply_to_status_id_str': None,\n",
       "  'in_reply_to_user_id': None,\n",
       "  'in_reply_to_user_id_str': None,\n",
       "  'in_reply_to_screen_name': None,\n",
       "  'user': {'id': 118263124,\n",
       "   'id_str': '118263124',\n",
       "   'name': 'Stanford NLP Group',\n",
       "   'screen_name': 'stanfordnlp',\n",
       "   'location': 'Stanford, CA, USA',\n",
       "   'description': 'Computational Linguistics—Natural Language—Machine Learning—Deep Learning. And misc technology from Silicon Valley. (@chrmanning, @jurafsky & @percyliang)',\n",
       "   'url': 'http://t.co/OK65AqppWC',\n",
       "   'entities': {'url': {'urls': [{'url': 'http://t.co/OK65AqppWC',\n",
       "       'expanded_url': 'http://nlp.stanford.edu/',\n",
       "       'display_url': 'nlp.stanford.edu',\n",
       "       'indices': [0, 22]}]},\n",
       "    'description': {'urls': []}},\n",
       "   'protected': False,\n",
       "   'followers_count': 70565,\n",
       "   'friends_count': 98,\n",
       "   'listed_count': 1608,\n",
       "   'created_at': 'Sun Feb 28 03:28:05 +0000 2010',\n",
       "   'favourites_count': 2,\n",
       "   'utc_offset': None,\n",
       "   'time_zone': None,\n",
       "   'geo_enabled': False,\n",
       "   'verified': False,\n",
       "   'statuses_count': 5437,\n",
       "   'lang': 'en',\n",
       "   'contributors_enabled': False,\n",
       "   'is_translator': False,\n",
       "   'is_translation_enabled': False,\n",
       "   'profile_background_color': '8C1515',\n",
       "   'profile_background_image_url': 'http://abs.twimg.com/images/themes/theme1/bg.png',\n",
       "   'profile_background_image_url_https': 'https://abs.twimg.com/images/themes/theme1/bg.png',\n",
       "   'profile_background_tile': False,\n",
       "   'profile_image_url': 'http://pbs.twimg.com/profile_images/897182721272799232/0CplRl36_normal.jpg',\n",
       "   'profile_image_url_https': 'https://pbs.twimg.com/profile_images/897182721272799232/0CplRl36_normal.jpg',\n",
       "   'profile_banner_url': 'https://pbs.twimg.com/profile_banners/118263124/1524181760',\n",
       "   'profile_link_color': '8C1515',\n",
       "   'profile_sidebar_border_color': 'FFFFFF',\n",
       "   'profile_sidebar_fill_color': 'DDEEF6',\n",
       "   'profile_text_color': '333333',\n",
       "   'profile_use_background_image': False,\n",
       "   'has_extended_profile': False,\n",
       "   'default_profile': False,\n",
       "   'default_profile_image': False,\n",
       "   'following': False,\n",
       "   'follow_request_sent': False,\n",
       "   'notifications': False,\n",
       "   'translator_type': 'none'},\n",
       "  'geo': None,\n",
       "  'coordinates': None,\n",
       "  'place': None,\n",
       "  'contributors': None,\n",
       "  'is_quote_status': False,\n",
       "  'retweet_count': 59,\n",
       "  'favorite_count': 223,\n",
       "  'favorited': False,\n",
       "  'retweeted': False,\n",
       "  'possibly_sensitive': False,\n",
       "  'lang': 'en'},\n",
       " 'is_quote_status': False,\n",
       " 'retweet_count': 59,\n",
       " 'favorite_count': 0,\n",
       " 'favorited': False,\n",
       " 'retweeted': False,\n",
       " 'lang': 'en'}"
      ]
     },
     "execution_count": 24,
     "metadata": {},
     "output_type": "execute_result"
    }
   ],
   "source": [
    "data[9]._json"
   ]
  },
  {
   "cell_type": "code",
   "execution_count": 169,
   "metadata": {},
   "outputs": [
    {
     "data": {
      "text/plain": [
       "'photo'"
      ]
     },
     "execution_count": 169,
     "metadata": {},
     "output_type": "execute_result"
    }
   ],
   "source": [
    "data[9]._json[\"entities\"][\"media\"][0][\"type\"]"
   ]
  },
  {
   "cell_type": "code",
   "execution_count": 189,
   "metadata": {},
   "outputs": [
    {
     "data": {
      "text/plain": [
       "'2019'"
      ]
     },
     "execution_count": 189,
     "metadata": {},
     "output_type": "execute_result"
    }
   ],
   "source": [
    "data[9]._json['created_at'].split(\" \")[5]"
   ]
  },
  {
   "cell_type": "code",
   "execution_count": 161,
   "metadata": {},
   "outputs": [
    {
     "data": {
      "text/plain": [
       "dict_keys(['created_at', 'id', 'id_str', 'text', 'truncated', 'entities', 'extended_entities', 'source', 'in_reply_to_status_id', 'in_reply_to_status_id_str', 'in_reply_to_user_id', 'in_reply_to_user_id_str', 'in_reply_to_screen_name', 'user', 'geo', 'coordinates', 'place', 'contributors', 'retweeted_status', 'is_quote_status', 'retweet_count', 'favorite_count', 'favorited', 'retweeted', 'possibly_sensitive', 'lang'])"
      ]
     },
     "execution_count": 161,
     "metadata": {},
     "output_type": "execute_result"
    }
   ],
   "source": [
    "data[9]._json.keys()"
   ]
  },
  {
   "cell_type": "code",
   "execution_count": 28,
   "metadata": {},
   "outputs": [],
   "source": [
    "json_str = json.dumps(data[9]._json)"
   ]
  },
  {
   "cell_type": "code",
   "execution_count": 29,
   "metadata": {},
   "outputs": [
    {
     "data": {
      "text/plain": [
       "'{\"created_at\": \"Wed Apr 03 18:31:53 +0000 2019\", \"id\": 1113509442849525760, \"id_str\": \"1113509442849525760\", \"text\": \"RT @stanfordnlp: What\\\\u2019s new in @Stanford CS224N Natural Language Processing with Deep Learning for 2019? Question answering\\\\u20141D CNNs\\\\u2014subword\\\\u2026\", \"truncated\": false, \"entities\": {\"hashtags\": [], \"symbols\": [], \"user_mentions\": [{\"screen_name\": \"stanfordnlp\", \"name\": \"Stanford NLP Group\", \"id\": 118263124, \"id_str\": \"118263124\", \"indices\": [3, 15]}, {\"screen_name\": \"Stanford\", \"name\": \"Stanford University\", \"id\": 18036441, \"id_str\": \"18036441\", \"indices\": [31, 40]}], \"urls\": []}, \"source\": \"<a href=\\\\\"http://twitter.com\\\\\" rel=\\\\\"nofollow\\\\\">Twitter Web Client</a>\", \"in_reply_to_status_id\": null, \"in_reply_to_status_id_str\": null, \"in_reply_to_user_id\": null, \"in_reply_to_user_id_str\": null, \"in_reply_to_screen_name\": null, \"user\": {\"id\": 1021355762575073281, \"id_str\": \"1021355762575073281\", \"name\": \"MIDAS IIITD\", \"screen_name\": \"midasIIITD\", \"location\": \"New Delhi, India\", \"description\": \"MIDAS is a group of researchers at IIIT-Delhi who study, analyze, and build different multimedia systems for society leveraging multimodal information.\", \"url\": \"https://t.co/Uwg7oSM6mE\", \"entities\": {\"url\": {\"urls\": [{\"url\": \"https://t.co/Uwg7oSM6mE\", \"expanded_url\": \"http://midas.iiitd.edu.in/\", \"display_url\": \"midas.iiitd.edu.in\", \"indices\": [0, 23]}]}, \"description\": {\"urls\": []}}, \"protected\": false, \"followers_count\": 264, \"friends_count\": 42, \"listed_count\": 0, \"created_at\": \"Mon Jul 23 11:26:04 +0000 2018\", \"favourites_count\": 142, \"utc_offset\": null, \"time_zone\": null, \"geo_enabled\": false, \"verified\": false, \"statuses_count\": 333, \"lang\": \"en\", \"contributors_enabled\": false, \"is_translator\": false, \"is_translation_enabled\": false, \"profile_background_color\": \"F5F8FA\", \"profile_background_image_url\": null, \"profile_background_image_url_https\": null, \"profile_background_tile\": false, \"profile_image_url\": \"http://pbs.twimg.com/profile_images/1021356444921212928/WmSTJCUs_normal.jpg\", \"profile_image_url_https\": \"https://pbs.twimg.com/profile_images/1021356444921212928/WmSTJCUs_normal.jpg\", \"profile_banner_url\": \"https://pbs.twimg.com/profile_banners/1021355762575073281/1554320878\", \"profile_link_color\": \"1DA1F2\", \"profile_sidebar_border_color\": \"C0DEED\", \"profile_sidebar_fill_color\": \"DDEEF6\", \"profile_text_color\": \"333333\", \"profile_use_background_image\": true, \"has_extended_profile\": false, \"default_profile\": true, \"default_profile_image\": false, \"following\": false, \"follow_request_sent\": false, \"notifications\": false, \"translator_type\": \"none\"}, \"geo\": null, \"coordinates\": null, \"place\": null, \"contributors\": null, \"retweeted_status\": {\"created_at\": \"Wed Apr 03 17:07:30 +0000 2019\", \"id\": 1113488206417104897, \"id_str\": \"1113488206417104897\", \"text\": \"What\\\\u2019s new in @Stanford CS224N Natural Language Processing with Deep Learning for 2019? Question answering\\\\u20141D CNNs\\\\u2014\\\\u2026 https://t.co/Zv9wvfNLkM\", \"truncated\": true, \"entities\": {\"hashtags\": [], \"symbols\": [], \"user_mentions\": [{\"screen_name\": \"Stanford\", \"name\": \"Stanford University\", \"id\": 18036441, \"id_str\": \"18036441\", \"indices\": [14, 23]}], \"urls\": [{\"url\": \"https://t.co/Zv9wvfNLkM\", \"expanded_url\": \"https://twitter.com/i/web/status/1113488206417104897\", \"display_url\": \"twitter.com/i/web/status/1\\\\u2026\", \"indices\": [117, 140]}]}, \"source\": \"<a href=\\\\\"http://twitter.com/#!/download/ipad\\\\\" rel=\\\\\"nofollow\\\\\">Twitter for iPad</a>\", \"in_reply_to_status_id\": null, \"in_reply_to_status_id_str\": null, \"in_reply_to_user_id\": null, \"in_reply_to_user_id_str\": null, \"in_reply_to_screen_name\": null, \"user\": {\"id\": 118263124, \"id_str\": \"118263124\", \"name\": \"Stanford NLP Group\", \"screen_name\": \"stanfordnlp\", \"location\": \"Stanford, CA, USA\", \"description\": \"Computational Linguistics\\\\u2014Natural Language\\\\u2014Machine Learning\\\\u2014Deep Learning. And misc technology from Silicon Valley. (@chrmanning, @jurafsky & @percyliang)\", \"url\": \"http://t.co/OK65AqppWC\", \"entities\": {\"url\": {\"urls\": [{\"url\": \"http://t.co/OK65AqppWC\", \"expanded_url\": \"http://nlp.stanford.edu/\", \"display_url\": \"nlp.stanford.edu\", \"indices\": [0, 22]}]}, \"description\": {\"urls\": []}}, \"protected\": false, \"followers_count\": 70565, \"friends_count\": 98, \"listed_count\": 1608, \"created_at\": \"Sun Feb 28 03:28:05 +0000 2010\", \"favourites_count\": 2, \"utc_offset\": null, \"time_zone\": null, \"geo_enabled\": false, \"verified\": false, \"statuses_count\": 5437, \"lang\": \"en\", \"contributors_enabled\": false, \"is_translator\": false, \"is_translation_enabled\": false, \"profile_background_color\": \"8C1515\", \"profile_background_image_url\": \"http://abs.twimg.com/images/themes/theme1/bg.png\", \"profile_background_image_url_https\": \"https://abs.twimg.com/images/themes/theme1/bg.png\", \"profile_background_tile\": false, \"profile_image_url\": \"http://pbs.twimg.com/profile_images/897182721272799232/0CplRl36_normal.jpg\", \"profile_image_url_https\": \"https://pbs.twimg.com/profile_images/897182721272799232/0CplRl36_normal.jpg\", \"profile_banner_url\": \"https://pbs.twimg.com/profile_banners/118263124/1524181760\", \"profile_link_color\": \"8C1515\", \"profile_sidebar_border_color\": \"FFFFFF\", \"profile_sidebar_fill_color\": \"DDEEF6\", \"profile_text_color\": \"333333\", \"profile_use_background_image\": false, \"has_extended_profile\": false, \"default_profile\": false, \"default_profile_image\": false, \"following\": false, \"follow_request_sent\": false, \"notifications\": false, \"translator_type\": \"none\"}, \"geo\": null, \"coordinates\": null, \"place\": null, \"contributors\": null, \"is_quote_status\": false, \"retweet_count\": 59, \"favorite_count\": 223, \"favorited\": false, \"retweeted\": false, \"possibly_sensitive\": false, \"lang\": \"en\"}, \"is_quote_status\": false, \"retweet_count\": 59, \"favorite_count\": 0, \"favorited\": false, \"retweeted\": false, \"lang\": \"en\"}'"
      ]
     },
     "execution_count": 29,
     "metadata": {},
     "output_type": "execute_result"
    }
   ],
   "source": [
    "json_str"
   ]
  },
  {
   "cell_type": "code",
   "execution_count": 156,
   "metadata": {},
   "outputs": [
    {
     "data": {
      "text/plain": [
       "'\"'"
      ]
     },
     "execution_count": 156,
     "metadata": {},
     "output_type": "execute_result"
    }
   ],
   "source": []
  },
  {
   "cell_type": "markdown",
   "metadata": {},
   "source": [
    "## Code to store data in .jsonl format"
   ]
  },
  {
   "cell_type": "code",
   "execution_count": 104,
   "metadata": {},
   "outputs": [],
   "source": [
    "def store_tweet_data(tweet_data):\n",
    "    \n",
    "    json_data = [json.dumps(status._json) for status in tweet_data]\n",
    "    \n",
    "    with open('data.jsonl', 'ab') as f:  \n",
    "        with jsonlines.Writer(f) as writer:\n",
    "            writer.write(json_data)"
   ]
  },
  {
   "cell_type": "code",
   "execution_count": 105,
   "metadata": {},
   "outputs": [],
   "source": [
    "store_tweet_data(data)"
   ]
  },
  {
   "cell_type": "code",
   "execution_count": 200,
   "metadata": {},
   "outputs": [],
   "source": [
    "def extract_tweet_info(file):\n",
    "    \n",
    "    texts = []\n",
    "    dates = []\n",
    "    months = []\n",
    "    times = []\n",
    "    years = []\n",
    "    n_favorites = []\n",
    "    n_retweets = []\n",
    "    n_images = []\n",
    "    \n",
    "\n",
    "    \n",
    "    with jsonlines.open(file) as reader:\n",
    "        for tweets in reader:\n",
    "            for tweet in tweets:\n",
    "                tweetJSONobj = json.loads(tweet)\n",
    "                created_at = tweetJSONobj[\"created_at\"]\n",
    "                months.append(created_at.split(\" \")[1])\n",
    "                dates.append(created_at.split(\" \")[2])\n",
    "                times.append(created_at.split(\" \")[3])\n",
    "                years.append(created_at.split(\" \")[5])\n",
    "                text_str = tweetJSONobj[\"text\"]\n",
    "                texts.append(text_str)\n",
    "                n_favorites.append(tweetJSONobj[\"favorite_count\"])\n",
    "                n_retweets.append(tweetJSONobj[\"retweet_count\"])\n",
    "                try:\n",
    "                    media_entities = tweetJSONobj[\"entities\"][\"media\"]\n",
    "                except(KeyError):\n",
    "                    n_images.append(None)\n",
    "                    continue\n",
    "                image_count = 0\n",
    "                for media in media_entities:\n",
    "                    if(media[\"type\"] == 'photo'):\n",
    "                        image_count = image_count + 1\n",
    "                if(image_count == 0):\n",
    "                    n_images.append(None)\n",
    "                else:\n",
    "                    n_images.append(image_count)\n",
    "                    \n",
    "        data_df = pd.DataFrame()\n",
    "        data_df['Text']  = texts\n",
    "        data_df[\"Time\"] = times\n",
    "        data_df[\"Date\"] = dates\n",
    "        data_df[\"Month\"] = months\n",
    "        data_df[\"Year\"] = years\n",
    "        data_df[\"No. Favorites\"] = n_favorites\n",
    "        data_df[\"No. Retweets\"] = n_retweets\n",
    "        data_df[\"No. Images\"] = n_images\n",
    "        \n",
    "        return(data_df)\n",
    "\n",
    "                \n",
    "    "
   ]
  },
  {
   "cell_type": "code",
   "execution_count": 201,
   "metadata": {},
   "outputs": [],
   "source": [
    "data_extracted = extract_tweet_info(\"data.jsonl\")"
   ]
  },
  {
   "cell_type": "code",
   "execution_count": 203,
   "metadata": {},
   "outputs": [
    {
     "data": {
      "text/html": [
       "<div>\n",
       "<style scoped>\n",
       "    .dataframe tbody tr th:only-of-type {\n",
       "        vertical-align: middle;\n",
       "    }\n",
       "\n",
       "    .dataframe tbody tr th {\n",
       "        vertical-align: top;\n",
       "    }\n",
       "\n",
       "    .dataframe thead th {\n",
       "        text-align: right;\n",
       "    }\n",
       "</style>\n",
       "<table border=\"1\" class=\"dataframe\">\n",
       "  <thead>\n",
       "    <tr style=\"text-align: right;\">\n",
       "      <th></th>\n",
       "      <th>Text</th>\n",
       "      <th>Time</th>\n",
       "      <th>Date</th>\n",
       "      <th>Month</th>\n",
       "      <th>Year</th>\n",
       "      <th>No. Favorites</th>\n",
       "      <th>No. Retweets</th>\n",
       "      <th>No. Images</th>\n",
       "    </tr>\n",
       "  </thead>\n",
       "  <tbody>\n",
       "    <tr>\n",
       "      <th>0</th>\n",
       "      <td>We request all students whose interview are sc...</td>\n",
       "      <td>11:43:24</td>\n",
       "      <td>07</td>\n",
       "      <td>Apr</td>\n",
       "      <td>2019</td>\n",
       "      <td>0</td>\n",
       "      <td>1</td>\n",
       "      <td>NaN</td>\n",
       "    </tr>\n",
       "    <tr>\n",
       "      <th>1</th>\n",
       "      <td>Other queries: \"none of the Tweeter Apis give ...</td>\n",
       "      <td>06:55:19</td>\n",
       "      <td>07</td>\n",
       "      <td>Apr</td>\n",
       "      <td>2019</td>\n",
       "      <td>3</td>\n",
       "      <td>2</td>\n",
       "      <td>NaN</td>\n",
       "    </tr>\n",
       "    <tr>\n",
       "      <th>2</th>\n",
       "      <td>Other queries: \"do we have to make two differe...</td>\n",
       "      <td>06:53:38</td>\n",
       "      <td>07</td>\n",
       "      <td>Apr</td>\n",
       "      <td>2019</td>\n",
       "      <td>4</td>\n",
       "      <td>1</td>\n",
       "      <td>NaN</td>\n",
       "    </tr>\n",
       "    <tr>\n",
       "      <th>3</th>\n",
       "      <td>Other queries: \"If using Twitter api, it does ...</td>\n",
       "      <td>05:32:27</td>\n",
       "      <td>07</td>\n",
       "      <td>Apr</td>\n",
       "      <td>2019</td>\n",
       "      <td>4</td>\n",
       "      <td>1</td>\n",
       "      <td>NaN</td>\n",
       "    </tr>\n",
       "    <tr>\n",
       "      <th>4</th>\n",
       "      <td>Response to some queries asked by students on ...</td>\n",
       "      <td>05:29:40</td>\n",
       "      <td>07</td>\n",
       "      <td>Apr</td>\n",
       "      <td>2019</td>\n",
       "      <td>6</td>\n",
       "      <td>1</td>\n",
       "      <td>NaN</td>\n",
       "    </tr>\n",
       "  </tbody>\n",
       "</table>\n",
       "</div>"
      ],
      "text/plain": [
       "                                                Text      Time Date Month  \\\n",
       "0  We request all students whose interview are sc...  11:43:24   07   Apr   \n",
       "1  Other queries: \"none of the Tweeter Apis give ...  06:55:19   07   Apr   \n",
       "2  Other queries: \"do we have to make two differe...  06:53:38   07   Apr   \n",
       "3  Other queries: \"If using Twitter api, it does ...  05:32:27   07   Apr   \n",
       "4  Response to some queries asked by students on ...  05:29:40   07   Apr   \n",
       "\n",
       "   Year  No. Favorites  No. Retweets  No. Images  \n",
       "0  2019              0             1         NaN  \n",
       "1  2019              3             2         NaN  \n",
       "2  2019              4             1         NaN  \n",
       "3  2019              4             1         NaN  \n",
       "4  2019              6             1         NaN  "
      ]
     },
     "execution_count": 203,
     "metadata": {},
     "output_type": "execute_result"
    }
   ],
   "source": [
    "data_extracted.head()"
   ]
  },
  {
   "cell_type": "markdown",
   "metadata": {},
   "source": [
    "# References \n",
    "\n",
    "Tweepy docs : https://buildmedia.readthedocs.org/media/pdf/tweepy/v3.2.0/tweepy.pdf\n",
    "\n",
    "Status object structure : https://gist.github.com/dev-techmoe/ef676cdd03ac47ac503e856282077bf2\n",
    "\n",
    "StackOverflow -\n",
    "Convert Tweepy Status object into JSON : https://stackoverflow.com/questions/27900451/convert-tweepy-status-object-into-json\n"
   ]
  }
 ],
 "metadata": {
  "kernelspec": {
   "display_name": "Python 3",
   "language": "python",
   "name": "python3"
  },
  "language_info": {
   "codemirror_mode": {
    "name": "ipython",
    "version": 3
   },
   "file_extension": ".py",
   "mimetype": "text/x-python",
   "name": "python",
   "nbconvert_exporter": "python",
   "pygments_lexer": "ipython3",
   "version": "3.7.1"
  }
 },
 "nbformat": 4,
 "nbformat_minor": 2
}
